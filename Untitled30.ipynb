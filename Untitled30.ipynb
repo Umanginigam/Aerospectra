{
  "cells": [
    {
      "cell_type": "code",
      "execution_count": 5,
      "metadata": {},
      "outputs": [
        {
          "name": "stdout",
          "output_type": "stream",
          "text": [
            "Collecting openpyxl\n",
            "  Using cached openpyxl-3.1.5-py2.py3-none-any.whl.metadata (2.5 kB)\n",
            "Collecting et-xmlfile (from openpyxl)\n",
            "  Using cached et_xmlfile-1.1.0-py3-none-any.whl.metadata (1.8 kB)\n",
            "Using cached openpyxl-3.1.5-py2.py3-none-any.whl (250 kB)\n",
            "Using cached et_xmlfile-1.1.0-py3-none-any.whl (4.7 kB)\n",
            "Installing collected packages: et-xmlfile, openpyxl\n",
            "Successfully installed et-xmlfile-1.1.0 openpyxl-3.1.5\n"
          ]
        }
      ],
      "source": [
        "!pip install openpyxl"
      ]
    },
    {
      "cell_type": "code",
      "execution_count": 1,
      "metadata": {
        "colab": {
          "base_uri": "https://localhost:8080/"
        },
        "id": "6Lm4i76gIpNY",
        "outputId": "208857a7-377b-4520-ec72-2727253641c9"
      },
      "outputs": [
        {
          "name": "stdout",
          "output_type": "stream",
          "text": [
            "         Date           City  Longitude  latitude        NO2\n",
            "0  2022-01-01  Greater Noida      77.16     28.61  14.573472\n",
            "1  2022-01-02  Greater Noida      77.19     28.63  17.658675\n",
            "2  2022-01-03  Greater Noida      77.23     28.67  17.658675\n",
            "3  2022-01-04  Greater Noida      77.25     28.69  17.658675\n",
            "4  2022-01-05  Greater Noida      77.29     28.73  17.658675\n"
          ]
        }
      ],
      "source": [
        "import pandas as pd\n",
        "\n",
        "# Load the datasets\n",
        "modified_dataset = pd.read_csv('feature_data.csv')\n",
        "ground_data = pd.read_csv('modified_ground_data.csv')\n",
        "output_file = pd.read_excel('Modified_NO2_Data.xlsx')\n",
        "\n",
        "# Correct the column name in the output file\n",
        "output_file.rename(columns={'ate': 'Date'}, inplace=True)\n",
        "\n",
        "# Verify the change\n",
        "print(output_file.head())\n"
      ]
    },
    {
      "cell_type": "code",
      "execution_count": 2,
      "metadata": {
        "colab": {
          "base_uri": "https://localhost:8080/"
        },
        "id": "Q7exdP5e4bFB",
        "outputId": "e3937f55-7116-4684-f993-e0fe880735c7"
      },
      "outputs": [
        {
          "name": "stdout",
          "output_type": "stream",
          "text": [
            "         Date           City  Longitude  latitude        NO2\n",
            "0  2022-01-01  Greater Noida      77.16     28.61  14.573472\n",
            "1  2022-01-02  Greater Noida      77.19     28.63  17.658675\n",
            "2  2022-01-03  Greater Noida      77.23     28.67  17.658675\n",
            "3  2022-01-04  Greater Noida      77.25     28.69  17.658675\n",
            "4  2022-01-05  Greater Noida      77.29     28.73  17.658675\n",
            "Columns in merged_dataset: Index(['Date', 'City', 'Temp', 'wind speed', 'pressure', ' Humidity',\n",
            "       'NO2_ground'],\n",
            "      dtype='object')\n",
            "Columns in output_file: Index(['Date', 'City', 'Longitude', 'latitude', 'NO2'], dtype='object')\n",
            "Columns in final_merged_dataset: Index(['Date', 'City', 'Temp', 'wind speed', 'pressure', ' Humidity',\n",
            "       'NO2_ground', 'Longitude', 'latitude', 'NO2'],\n",
            "      dtype='object')\n",
            "First few rows of the final merged dataset:\n",
            "         Date           City  Temp  wind speed  pressure   Humidity  \\\n",
            "0  2022-03-13  Greater Noida  24.2         4.9    1010.4         39   \n",
            "1  2022-07-01  Greater Noida  28.5         5.0     998.4         33   \n",
            "2  2022-07-02  Greater Noida  30.7         5.3     997.0         40   \n",
            "3  2022-07-03  Greater Noida  31.1         6.3     997.8         56   \n",
            "4  2022-07-04  Greater Noida  32.6         4.1     997.4         49   \n",
            "\n",
            "   NO2_ground  Longitude  latitude        NO2  \n",
            "0       27.78      78.97     30.16  26.218480  \n",
            "1       17.40      81.70     32.34  22.462862  \n",
            "2       11.37      81.72     32.36  23.019729  \n",
            "3       20.06      81.75     32.38  23.356440  \n",
            "4       19.37      81.77     32.40  22.657118  \n"
          ]
        }
      ],
      "source": [
        "import pandas as pd\n",
        "\n",
        "# Load the datasets\n",
        "modified_dataset = pd.read_csv('feature_data.csv')\n",
        "ground_data = pd.read_csv('ground_data..csv')\n",
        "output_file = pd.read_excel('Modified_NO2_Data.xlsx')\n",
        "\n",
        "\n",
        "# Correct the column name in the output file\n",
        "output_file.rename(columns={'ate': 'Date'}, inplace=True)\n",
        "\n",
        "# Verify the change\n",
        "print(output_file.head())\n",
        "\n",
        "# Assuming modified_dataset and ground_data need to be merged first.\n",
        "# Replace with the appropriate DataFrame names and merge operation if necessary\n",
        "merged_dataset = pd.merge(modified_dataset, ground_data, on=['Date', 'City'], how='inner')\n",
        "\n",
        "# Check columns in merged_dataset and output_file\n",
        "print(\"Columns in merged_dataset:\", merged_dataset.columns)\n",
        "print(\"Columns in output_file:\", output_file.columns)\n",
        "\n",
        "# If 'City' is missing in either DataFrame, we'll handle it\n",
        "if 'City' not in merged_dataset.columns or 'City' not in output_file.columns:\n",
        "    print(\"The 'City' column is missing in one of the DataFrames. Adjusting merge columns...\")\n",
        "\n",
        "    # Adjust the merging columns based on availability\n",
        "    merge_columns = ['Date']\n",
        "    if 'City' in merged_dataset.columns and 'City' in output_file.columns:\n",
        "        merge_columns.append('City')\n",
        "\n",
        "    # Merge the datasets based on the available columns\n",
        "    final_merged_dataset = pd.merge(merged_dataset, output_file, on=merge_columns, how='inner')\n",
        "else:\n",
        "    # Merge the datasets on 'Date' and 'City'\n",
        "    final_merged_dataset = pd.merge(merged_dataset, output_file, on=['Date', 'City'], how='inner')\n",
        "\n",
        "# Verify the merged dataset\n",
        "print(\"Columns in final_merged_dataset:\", final_merged_dataset.columns)\n",
        "print(\"First few rows of the final merged dataset:\")\n",
        "print(final_merged_dataset.head())"
      ]
    },
    {
      "cell_type": "code",
      "execution_count": 3,
      "metadata": {
        "colab": {
          "base_uri": "https://localhost:8080/"
        },
        "id": "VlyNrLjE4o7L",
        "outputId": "5c705311-28e9-4e51-e7bf-668e28dcbc39"
      },
      "outputs": [
        {
          "name": "stdout",
          "output_type": "stream",
          "text": [
            "Date          0\n",
            "City          0\n",
            "Temp          0\n",
            "wind speed    0\n",
            "pressure      0\n",
            " Humidity     0\n",
            "NO2_ground    0\n",
            "Longitude     0\n",
            "latitude      0\n",
            "NO2           0\n",
            "dtype: int64\n"
          ]
        }
      ],
      "source": [
        "# Check if 'Humidity' column exists before filling missing values\n",
        "if 'Humidity' in final_merged_dataset.columns:\n",
        "  # Fill missing values in 'Humidity' and 'NO2' using the mean\n",
        "  final_merged_dataset['Humidity'].fillna(final_merged_dataset['Humidity'].mean(), inplace=True)\n",
        "\n",
        "# Check if 'NO2' column exists before filling missing values\n",
        "if 'NO2' in final_merged_dataset.columns:\n",
        "  final_merged_dataset['NO2'].fillna(final_merged_dataset['NO2'].mean(), inplace=True)\n",
        "\n",
        "# Verify the changes\n",
        "print(final_merged_dataset.isnull().sum())"
      ]
    },
    {
      "cell_type": "code",
      "execution_count": 4,
      "metadata": {
        "colab": {
          "base_uri": "https://localhost:8080/"
        },
        "id": "eEaVzy1wJR1V",
        "outputId": "870f7dae-4c89-4e75-f264-b593a5c9b68a"
      },
      "outputs": [
        {
          "name": "stdout",
          "output_type": "stream",
          "text": [
            "Shape of merged_dataset: (161, 8)\n",
            "         Date         City_x  Temp  wind speed  pressure   Humidity  \\\n",
            "0  2022-03-13  Greater Noida  24.2         4.9    1010.4         39   \n",
            "1  2022-07-01  Greater Noida  28.5         5.0     998.4         33   \n",
            "2  2022-07-02  Greater Noida  30.7         5.3     997.0         40   \n",
            "3  2022-07-03  Greater Noida  31.1         6.3     997.8         56   \n",
            "4  2022-07-04  Greater Noida  32.6         4.1     997.4         49   \n",
            "\n",
            "          City_y  NO2_ground  \n",
            "0  Greater Noida       27.78  \n",
            "1  Greater Noida       17.40  \n",
            "2  Greater Noida       11.37  \n",
            "3  Greater Noida       20.06  \n",
            "4  Greater Noida       19.37  \n",
            "Shape of final_merged_dataset: (161, 12)\n",
            "         Date         City_x  Temp  wind speed  pressure   Humidity  \\\n",
            "0  2022-03-13  Greater Noida  24.2         4.9    1010.4         39   \n",
            "1  2022-07-01  Greater Noida  28.5         5.0     998.4         33   \n",
            "2  2022-07-02  Greater Noida  30.7         5.3     997.0         40   \n",
            "3  2022-07-03  Greater Noida  31.1         6.3     997.8         56   \n",
            "4  2022-07-04  Greater Noida  32.6         4.1     997.4         49   \n",
            "\n",
            "          City_y  NO2_ground           City  Longitude  latitude        NO2  \n",
            "0  Greater Noida       27.78  Greater Noida      78.97     30.16  26.218480  \n",
            "1  Greater Noida       17.40  Greater Noida      81.70     32.34  22.462862  \n",
            "2  Greater Noida       11.37  Greater Noida      81.72     32.36  23.019729  \n",
            "3  Greater Noida       20.06  Greater Noida      81.75     32.38  23.356440  \n",
            "4  Greater Noida       19.37  Greater Noida      81.77     32.40  22.657118  \n",
            "Date          0\n",
            "City_x        0\n",
            "Temp          0\n",
            "wind speed    0\n",
            "pressure      0\n",
            " Humidity     0\n",
            "City_y        0\n",
            "NO2_ground    0\n",
            "City          0\n",
            "Longitude     0\n",
            "latitude      0\n",
            "NO2           0\n",
            "dtype: int64\n"
          ]
        }
      ],
      "source": [
        "# Merge modified_dataset with ground_data on 'Date'\n",
        "merged_dataset = pd.merge(modified_dataset, ground_data, on='Date', how='inner')\n",
        "\n",
        "# Print some info to check merge results\n",
        "print(f\"Shape of merged_dataset: {merged_dataset.shape}\")\n",
        "print(merged_dataset.head())\n",
        "\n",
        "# Merge the merged dataset with output_file on 'Date' and 'City'\n",
        "final_merged_dataset = pd.merge(merged_dataset, output_file, on=['Date'], how='inner')\n",
        "\n",
        "# Print some info to check merge results\n",
        "print(f\"Shape of final_merged_dataset: {final_merged_dataset.shape}\")\n",
        "print(final_merged_dataset.head())\n",
        "\n",
        "# Fill missing values in 'Humidity' and 'NO2' ONLY if the column exists and has missing values\n",
        "if 'Humidity' in final_merged_dataset.columns and final_merged_dataset['Humidity'].isnull().any():\n",
        "  final_merged_dataset['Humidity'].fillna(final_merged_dataset['Humidity'].mean(), inplace=True)\n",
        "\n",
        "if 'NO2' in final_merged_dataset.columns and final_merged_dataset['NO2'].isnull().any():\n",
        "  final_merged_dataset['NO2'].fillna(final_merged_dataset['NO2'].mean(), inplace=True)\n",
        "\n",
        "# Verify the changes\n",
        "print(final_merged_dataset.isnull().sum())"
      ]
    },
    {
      "cell_type": "code",
      "execution_count": 12,
      "metadata": {
        "colab": {
          "base_uri": "https://localhost:8080/"
        },
        "id": "d0FyGZJC4_zh",
        "outputId": "ca69a8a8-6950-4c2e-9d3b-16362e14c685"
      },
      "outputs": [
        {
          "name": "stdout",
          "output_type": "stream",
          "text": [
            "         Date           City  Longitude  latitude        NO2\n",
            "0  2022-01-01  Greater Noida      77.16     28.61  14.573472\n",
            "1  2022-01-02  Greater Noida      77.19     28.63  17.658675\n",
            "2  2022-01-03  Greater Noida      77.23     28.67  17.658675\n",
            "3  2022-01-04  Greater Noida      77.25     28.69  17.658675\n",
            "4  2022-01-05  Greater Noida      77.29     28.73  17.658675\n",
            "Shape of merged_dataset: (161, 8)\n",
            "         Date         City_x  Temp  wind speed  pressure   Humidity  \\\n",
            "0  2022-03-13  Greater Noida  24.2         4.9    1010.4         39   \n",
            "1  2022-07-01  Greater Noida  28.5         5.0     998.4         33   \n",
            "2  2022-07-02  Greater Noida  30.7         5.3     997.0         40   \n",
            "3  2022-07-03  Greater Noida  31.1         6.3     997.8         56   \n",
            "4  2022-07-04  Greater Noida  32.6         4.1     997.4         49   \n",
            "\n",
            "          City_y  NO2_ground  \n",
            "0  Greater Noida       27.78  \n",
            "1  Greater Noida       17.40  \n",
            "2  Greater Noida       11.37  \n",
            "3  Greater Noida       20.06  \n",
            "4  Greater Noida       19.37  \n",
            "Shape of final_merged_dataset: (161, 12)\n",
            "         Date         City_x  Temp  wind speed  pressure   Humidity  \\\n",
            "0  2022-03-13  Greater Noida  24.2         4.9    1010.4         39   \n",
            "1  2022-07-01  Greater Noida  28.5         5.0     998.4         33   \n",
            "2  2022-07-02  Greater Noida  30.7         5.3     997.0         40   \n",
            "3  2022-07-03  Greater Noida  31.1         6.3     997.8         56   \n",
            "4  2022-07-04  Greater Noida  32.6         4.1     997.4         49   \n",
            "\n",
            "          City_y  NO2_ground           City  Longitude  latitude        NO2  \n",
            "0  Greater Noida       27.78  Greater Noida      78.97     30.16  26.218480  \n",
            "1  Greater Noida       17.40  Greater Noida      81.70     32.34  22.462862  \n",
            "2  Greater Noida       11.37  Greater Noida      81.72     32.36  23.019729  \n",
            "3  Greater Noida       20.06  Greater Noida      81.75     32.38  23.356440  \n",
            "4  Greater Noida       19.37  Greater Noida      81.77     32.40  22.657118  \n",
            "Date          0\n",
            "City_x        0\n",
            "Temp          0\n",
            "wind speed    0\n",
            "pressure      0\n",
            " Humidity     0\n",
            "City_y        0\n",
            "NO2_ground    0\n",
            "City          0\n",
            "Longitude     0\n",
            "latitude      0\n",
            "NO2           0\n",
            "dtype: int64\n",
            "Error: The following columns are missing from the DataFrame: {'Humidity'}\n"
          ]
        }
      ],
      "source": [
        "import pandas as pd\n",
        "from sklearn.model_selection import train_test_split\n",
        "from sklearn.linear_model import LinearRegression\n",
        "from sklearn.neighbors import KNeighborsRegressor\n",
        "from sklearn.metrics import mean_squared_error\n",
        "\n",
        "# Load the datasets\n",
        "modified_dataset = pd.read_csv('feature_data.csv')\n",
        "ground_data = pd.read_csv('modified_ground_data.csv')\n",
        "output_file = pd.read_excel('Modified_NO2_Data.xlsx')\n",
        "\n",
        "\n",
        "# Correct the column name in the output file\n",
        "output_file.rename(columns={'ate': 'Date'}, inplace=True)\n",
        "\n",
        "# Verify the change\n",
        "print(output_file.head())\n",
        "\n",
        "# Merge modified_dataset with ground_data on 'Date'\n",
        "merged_dataset = pd.merge(modified_dataset, ground_data, on='Date', how='inner')\n",
        "\n",
        "# Print some info to check merge results\n",
        "print(f\"Shape of merged_dataset: {merged_dataset.shape}\")\n",
        "print(merged_dataset.head())\n",
        "\n",
        "# Merge the merged dataset with output_file on 'Date'\n",
        "final_merged_dataset = pd.merge(merged_dataset, output_file, on=['Date'], how='inner')\n",
        "\n",
        "# Print some info to check merge results\n",
        "print(f\"Shape of final_merged_dataset: {final_merged_dataset.shape}\")\n",
        "print(final_merged_dataset.head())\n",
        "\n",
        "# Fill missing values in 'Humidity' and 'NO2' ONLY if the column exists and has missing values\n",
        "if 'Humidity' in final_merged_dataset.columns and final_merged_dataset['Humidity'].isnull().any():\n",
        "  final_merged_dataset['Humidity'].fillna(final_merged_dataset['Humidity'].mean(), inplace=True)\n",
        "\n",
        "if 'NO2' in final_merged_dataset.columns and final_merged_dataset['NO2'].isnull().any():\n",
        "  final_merged_dataset['NO2'].fillna(final_merged_dataset['NO2'].mean(), inplace=True)\n",
        "\n",
        "# Verify the changes\n",
        "print(final_merged_dataset.isnull().sum())\n",
        "\n",
        "# Check if the required columns exist in the DataFrame\n",
        "required_columns = ['Longitude', 'latitude', 'Temp', 'wind speed', 'pressure', 'Humidity', 'NO2']\n",
        "missing_columns = set(required_columns) - set(final_merged_dataset.columns)\n",
        "\n",
        "if missing_columns:\n",
        "  print(f\"Error: The following columns are missing from the DataFrame: {missing_columns}\")\n",
        "else:\n",
        "  # Define features and target\n",
        "  features = final_merged_dataset[['Longitude', 'latitude', 'Temp', 'wind speed', 'pressure', 'Humidity']]\n",
        "  target = final_merged_dataset['NO2']\n",
        "\n",
        "  # Split the data\n",
        "  X_train, X_test, y_train, y_test = train_test_split(features, target, test_size=0.2, random_state=42)\n",
        "\n",
        "  # Linear Regression\n",
        "  lr_model = LinearRegression()\n",
        "  lr_model.fit(X_train, y_train)\n",
        "  lr_predictions = lr_model.predict(X_test)\n",
        "  lr_mse = mean_squared_error(y_test, lr_predictions)\n",
        "\n",
        "  # K-Nearest Neighbors\n",
        "  knn_model = KNeighborsRegressor(n_neighbors=5)\n",
        "  knn_model.fit(X_train, y_train)\n",
        "  knn_predictions = knn_model.predict(X_test)\n",
        "  knn_mse = mean_squared_error(y_test, knn_predictions)\n",
        "\n",
        "  # Compare the models\n",
        "  print(f\"Linear Regression MSE: {lr_mse}\")\n",
        "  print(f\"KNN MSE: {knn_mse}\")"
      ]
    },
    {
      "cell_type": "code",
      "execution_count": 5,
      "metadata": {
        "colab": {
          "base_uri": "https://localhost:8080/"
        },
        "id": "JuAk5Rv1J5l1",
        "outputId": "1547c399-6cf0-4897-aab1-ddd8181bf8bd"
      },
      "outputs": [
        {
          "name": "stdout",
          "output_type": "stream",
          "text": [
            "One or more required columns are not found in the dataset.\n"
          ]
        }
      ],
      "source": [
        "from sklearn.model_selection import train_test_split\n",
        "from sklearn.linear_model import LinearRegression\n",
        "from sklearn.neighbors import KNeighborsRegressor\n",
        "from sklearn.metrics import mean_squared_error\n",
        "\n",
        "# Define features and target\n",
        "# Check if the columns exist before accessing them\n",
        "if all(col in final_merged_dataset.columns for col in ['Longitude', 'latitude', 'Temp', 'wind speed', 'pressure', 'Humidity']):\n",
        "  features = final_merged_dataset[['Longitude', 'latitude', 'Temp', 'wind speed', 'pressure', 'Humidity']]\n",
        "  target = final_merged_dataset['NO2']\n",
        "\n",
        "  # Split the data\n",
        "  X_train, X_test, y_train, y_test = train_test_split(features, target, test_size=0.2, random_state=42)\n",
        "\n",
        "  # Linear Regression\n",
        "  lr_model = LinearRegression()\n",
        "  lr_model.fit(X_train, y_train)\n",
        "  lr_predictions = lr_model.predict(X_test)\n",
        "  lr_mse = mean_squared_error(y_test, lr_predictions)\n",
        "\n",
        "  # K-Nearest Neighbors\n",
        "  knn_model = KNeighborsRegressor(n_neighbors=5)\n",
        "  knn_model.fit(X_train, y_train)\n",
        "  knn_predictions = knn_model.predict(X_test)\n",
        "  knn_mse = mean_squared_error(y_test, knn_predictions)\n",
        "\n",
        "  # Compare the models\n",
        "  print(f\"Linear Regression MSE: {lr_mse}\")\n",
        "  print(f\"KNN MSE: {knn_mse}\")\n",
        "else:\n",
        "  print(\"One or more required columns are not found in the dataset.\")\n",
        "# Investigate why 'final_merged_dataset' is empty by checking the values in the 'Date' and 'City' columns of all the dataframes being merged.\n",
        "# Consider using other join types like 'left', 'right' or 'outer' to include more data in the merge operation"
      ]
    },
    {
      "cell_type": "code",
      "execution_count": 15,
      "metadata": {
        "colab": {
          "base_uri": "https://localhost:8080/"
        },
        "id": "ZXn_zy9-Juq5",
        "outputId": "564b3520-7b0a-458c-ef13-76a2ea2cb5cd"
      },
      "outputs": [
        {
          "name": "stdout",
          "output_type": "stream",
          "text": [
            "Index(['Date', 'City', 'Temp', 'wind speed', 'pressure', 'Humidity'], dtype='object')\n",
            "Index(['Date', 'City', 'NO2_ground'], dtype='object')\n",
            "Index(['Date', 'City', 'Longitude', 'latitude', 'NO2'], dtype='object')\n"
          ]
        }
      ],
      "source": [
        "# Strip spaces from column names\n",
        "modified_dataset.columns = modified_dataset.columns.str.strip()\n",
        "ground_data.columns = ground_data.columns.str.strip()\n",
        "output_file.columns = output_file.columns.str.strip()\n",
        "\n",
        "# Verify the column names again\n",
        "print(modified_dataset.columns)\n",
        "print(ground_data.columns)\n",
        "print(output_file.columns)\n"
      ]
    },
    {
      "cell_type": "code",
      "execution_count": 16,
      "metadata": {
        "colab": {
          "base_uri": "https://localhost:8080/"
        },
        "id": "uit3EVxYLbwk",
        "outputId": "5bd25c05-eb28-4079-d6d4-dceb3e8301ea"
      },
      "outputs": [
        {
          "name": "stdout",
          "output_type": "stream",
          "text": [
            "         Date\n",
            "0  2022-03-13\n",
            "1  2022-07-01\n",
            "2  2022-07-02\n",
            "3  2022-07-03\n",
            "4  2022-07-04\n"
          ]
        }
      ],
      "source": [
        "# Verify merging columns\n",
        "print(final_merged_dataset[['Date']].head())\n"
      ]
    },
    {
      "cell_type": "code",
      "execution_count": null,
      "metadata": {
        "id": "Dq32nUSIMrgZ"
      },
      "outputs": [],
      "source": [
        "modified_dataset['Date'] = pd.to_datetime(modified_dataset['Date'], format='%Y-%m-%d') # Changed the format to match the actual date format\n",
        "ground_data['Date'] = pd.to_datetime(ground_data['Date'], format='%Y-%m-%d')\n",
        "output_file['Date'] = pd.to_datetime(output_file['Date'], format='%Y-%m-%d')"
      ]
    },
    {
      "cell_type": "code",
      "execution_count": null,
      "metadata": {
        "id": "xkm_C789NG--"
      },
      "outputs": [],
      "source": [
        "# Convert date columns to a consistent datetime format\n",
        "modified_dataset['Date'] = pd.to_datetime(modified_dataset['Date'])\n",
        "ground_data['Date'] = pd.to_datetime(ground_data['Date'])\n",
        "output_file['Date'] = pd.to_datetime(output_file['Date'])\n"
      ]
    },
    {
      "cell_type": "code",
      "execution_count": 17,
      "metadata": {
        "colab": {
          "base_uri": "https://localhost:8080/"
        },
        "id": "acCu9x_uNIYS",
        "outputId": "551afcf4-7c9b-45e3-cbf6-a07b2bee4660"
      },
      "outputs": [
        {
          "name": "stdout",
          "output_type": "stream",
          "text": [
            "         Date         City_x  Temp  wind speed  pressure  Humidity  \\\n",
            "0  2022-03-13  Greater Noida  24.2         4.9    1010.4        39   \n",
            "1  2022-07-01  Greater Noida  28.5         5.0     998.4        33   \n",
            "2  2022-07-02  Greater Noida  30.7         5.3     997.0        40   \n",
            "3  2022-07-03  Greater Noida  31.1         6.3     997.8        56   \n",
            "4  2022-07-04  Greater Noida  32.6         4.1     997.4        49   \n",
            "\n",
            "          City_y  NO2_ground           City  Longitude  latitude        NO2  \n",
            "0  Greater Noida       27.78  Greater Noida      78.97     30.16  26.218480  \n",
            "1  Greater Noida       17.40  Greater Noida      81.70     32.34  22.462862  \n",
            "2  Greater Noida       11.37  Greater Noida      81.72     32.36  23.019729  \n",
            "3  Greater Noida       20.06  Greater Noida      81.75     32.38  23.356440  \n",
            "4  Greater Noida       19.37  Greater Noida      81.77     32.40  22.657118  \n"
          ]
        }
      ],
      "source": [
        "# Merge the modified_dataset with ground_data on 'Date'\n",
        "merged_dataset = pd.merge(modified_dataset, ground_data, on='Date', how='inner')\n",
        "\n",
        "# Merge the result with the output_file on 'Date'\n",
        "final_merged_dataset = pd.merge(merged_dataset, output_file, on='Date', how='inner')\n",
        "\n",
        "# Display the merged dataset\n",
        "print(final_merged_dataset.head())\n"
      ]
    },
    {
      "cell_type": "code",
      "execution_count": 18,
      "metadata": {
        "colab": {
          "base_uri": "https://localhost:8080/"
        },
        "id": "6H8MwnJDNMz2",
        "outputId": "e0fbbba9-0269-443b-9e6f-d512b8f76c52"
      },
      "outputs": [
        {
          "name": "stdout",
          "output_type": "stream",
          "text": [
            "         Date         City_x  Temp  wind speed  pressure  Humidity  \\\n",
            "0  2022-03-13  Greater Noida  24.2         4.9    1010.4        39   \n",
            "1  2022-07-01  Greater Noida  28.5         5.0     998.4        33   \n",
            "2  2022-07-02  Greater Noida  30.7         5.3     997.0        40   \n",
            "3  2022-07-03  Greater Noida  31.1         6.3     997.8        56   \n",
            "4  2022-07-04  Greater Noida  32.6         4.1     997.4        49   \n",
            "\n",
            "          City_y  NO2_ground           City  Longitude  latitude        NO2  \n",
            "0  Greater Noida       27.78  Greater Noida      78.97     30.16  26.218480  \n",
            "1  Greater Noida       17.40  Greater Noida      81.70     32.34  22.462862  \n",
            "2  Greater Noida       11.37  Greater Noida      81.72     32.36  23.019729  \n",
            "3  Greater Noida       20.06  Greater Noida      81.75     32.38  23.356440  \n",
            "4  Greater Noida       19.37  Greater Noida      81.77     32.40  22.657118  \n",
            "Date          0\n",
            "City_x        0\n",
            "Temp          0\n",
            "wind speed    0\n",
            "pressure      0\n",
            "Humidity      0\n",
            "City_y        0\n",
            "NO2_ground    0\n",
            "City          0\n",
            "Longitude     0\n",
            "latitude      0\n",
            "NO2           0\n",
            "dtype: int64\n"
          ]
        }
      ],
      "source": [
        "# Display the first few rows of the final merged dataset\n",
        "print(final_merged_dataset.head())\n",
        "\n",
        "# Check for any remaining missing values\n",
        "print(final_merged_dataset.isnull().sum())\n"
      ]
    },
    {
      "cell_type": "code",
      "execution_count": 19,
      "metadata": {
        "colab": {
          "base_uri": "https://localhost:8080/"
        },
        "id": "uitAbVBrNugp",
        "outputId": "d78178cc-e423-4983-a5d0-a7ad16b246b4"
      },
      "outputs": [
        {
          "name": "stdout",
          "output_type": "stream",
          "text": [
            "Index(['Date', 'City_x', 'Temp', 'wind speed', 'pressure', 'Humidity',\n",
            "       'City_y', 'NO2_ground', 'City', 'Longitude', 'latitude', 'NO2'],\n",
            "      dtype='object')\n"
          ]
        }
      ],
      "source": [
        "# Check the column names in the final merged dataset\n",
        "print(final_merged_dataset.columns)\n"
      ]
    },
    {
      "cell_type": "code",
      "execution_count": 20,
      "metadata": {
        "id": "aefbN6WZOM-G"
      },
      "outputs": [],
      "source": [
        "from sklearn.impute import SimpleImputer\n",
        "\n",
        "# Impute missing NO2 values in the satellite data\n",
        "imputer = SimpleImputer(strategy='mean')\n",
        "output_file['NO2'] = imputer.fit_transform(output_file[['NO2']])"
      ]
    },
    {
      "cell_type": "code",
      "execution_count": 21,
      "metadata": {
        "colab": {
          "base_uri": "https://localhost:8080/"
        },
        "id": "fP_01eQjOj14",
        "outputId": "6858ab4a-42bf-4816-c52f-356d8915a3cb"
      },
      "outputs": [
        {
          "name": "stdout",
          "output_type": "stream",
          "text": [
            "0\n"
          ]
        }
      ],
      "source": [
        "from sklearn.impute import SimpleImputer\n",
        "\n",
        "# Impute missing NO2 values in the output_file dataset\n",
        "imputer = SimpleImputer(strategy='mean')\n",
        "\n",
        "# Apply the imputer to the 'NO2' column\n",
        "output_file['NO2'] = imputer.fit_transform(output_file[['NO2']])\n",
        "\n",
        "# Verify the imputation\n",
        "print(output_file['NO2'].isnull().sum())  # This should print 0 if all NaNs are filled\n"
      ]
    },
    {
      "cell_type": "code",
      "execution_count": 22,
      "metadata": {
        "colab": {
          "base_uri": "https://localhost:8080/"
        },
        "id": "xKzaT28wSPQG",
        "outputId": "604848da-3c85-4fe0-be5c-78f9db50709d"
      },
      "outputs": [
        {
          "name": "stdout",
          "output_type": "stream",
          "text": [
            "Shape of features DataFrame: (161, 6)\n",
            "   Longitude  latitude  Temp  wind speed  pressure  Humidity\n",
            "0      78.97     30.16  24.2         4.9    1010.4        39\n",
            "1      81.70     32.34  28.5         5.0     998.4        33\n",
            "2      81.72     32.36  30.7         5.3     997.0        40\n",
            "3      81.75     32.38  31.1         6.3     997.8        56\n",
            "4      81.77     32.40  32.6         4.1     997.4        49\n"
          ]
        },
        {
          "ename": "NameError",
          "evalue": "name 'target' is not defined",
          "output_type": "error",
          "traceback": [
            "\u001b[1;31m---------------------------------------------------------------------------\u001b[0m",
            "\u001b[1;31mNameError\u001b[0m                                 Traceback (most recent call last)",
            "Cell \u001b[1;32mIn[22], line 24\u001b[0m\n\u001b[0;32m     22\u001b[0m \u001b[38;5;66;03m# Continue with the train-test split and model training\u001b[39;00m\n\u001b[0;32m     23\u001b[0m \u001b[38;5;28;01mif\u001b[39;00m \u001b[38;5;129;01mnot\u001b[39;00m features\u001b[38;5;241m.\u001b[39mempty:\n\u001b[1;32m---> 24\u001b[0m     X_train, X_test, y_train, y_test \u001b[38;5;241m=\u001b[39m train_test_split(features, \u001b[43mtarget\u001b[49m, test_size\u001b[38;5;241m=\u001b[39m\u001b[38;5;241m0.2\u001b[39m, random_state\u001b[38;5;241m=\u001b[39m\u001b[38;5;241m42\u001b[39m)\n\u001b[0;32m     26\u001b[0m     \u001b[38;5;66;03m# Initialize and train the models (Linear Regression and KNN)\u001b[39;00m\n\u001b[0;32m     27\u001b[0m     lr_model \u001b[38;5;241m=\u001b[39m LinearRegression()\n",
            "\u001b[1;31mNameError\u001b[0m: name 'target' is not defined"
          ]
        }
      ],
      "source": [
        "# Correcting the column name (removing leading space in ' Humidity')\n",
        "final_merged_dataset = final_merged_dataset.rename(columns={' Humidity': 'Humidity'})\n",
        "\n",
        "# Define the list of required features\n",
        "required_features = ['Longitude', 'latitude', 'Temp', 'wind speed', 'pressure', 'Humidity']\n",
        "\n",
        "# Select only the features that exist in the dataset\n",
        "available_features = [feature for feature in required_features if feature in final_merged_dataset.columns]\n",
        "\n",
        "# If some features are missing, print a warning\n",
        "missing_features = set(required_features) - set(available_features)\n",
        "if missing_features:\n",
        "    print(f\"Warning: The following features are missing and will be excluded: {missing_features}\")\n",
        "\n",
        "# Use only the available features\n",
        "features = final_merged_dataset[available_features]\n",
        "\n",
        "# Verify the features DataFrame is not empty\n",
        "print(f\"Shape of features DataFrame: {features.shape}\")\n",
        "print(features.head())  # Optional: To visually inspect the first few rows\n",
        "\n",
        "# Continue with the train-test split and model training\n",
        "if not features.empty:\n",
        "    X_train, X_test, y_train, y_test = train_test_split(features, target, test_size=0.2, random_state=42)\n",
        "\n",
        "    # Initialize and train the models (Linear Regression and KNN)\n",
        "    lr_model = LinearRegression()\n",
        "    lr_model.fit(X_train, y_train)\n",
        "    lr_predictions = lr_model.predict(X_test)\n",
        "\n",
        "    knn_model = KNeighborsRegressor(n_neighbors=5)\n",
        "    knn_model.fit(X_train, y_train)\n",
        "    knn_predictions = knn_model.predict(X_test)\n",
        "\n",
        "    # Calculate and compare MSE\n",
        "    lr_mse = mean_squared_error(y_test, lr_predictions)\n",
        "    knn_mse = mean_squared_error(y_test, knn_predictions)\n",
        "\n",
        "    # Calculate and compare accuracy (R-squared)\n",
        "    lr_r2 = lr_model.score(X_test, y_test)\n",
        "    knn_r2 = knn_model.score(X_test, y_test)\n",
        "\n",
        "    # Print the results\n",
        "    print(f\"Linear Regression MSE: {lr_mse}\")\n",
        "    print(f\"Linear Regression Accuracy (R-squared): {lr_r2}\")\n",
        "\n",
        "    print(f\"KNN MSE: {knn_mse}\")\n",
        "    print(f\"KNN Accuracy (R-squared): {knn_r2}\")\n",
        "\n",
        "    # Compare the models based on MSE and R-squared\n",
        "    if lr_mse < knn_mse:\n",
        "        print(\"Linear Regression is more accurate with a lower MSE.\")\n",
        "    else:\n",
        "        print(\"KNN is more accurate with a lower MSE.\")\n",
        "\n",
        "    if lr_r2 > knn_r2:\n",
        "        print(\"Linear Regression has a better fit with a higher R-squared.\")\n",
        "    else:\n",
        "        print(\"KNN has a better fit with a higher R-squared.\")\n",
        "else:\n",
        "    print(\"The features DataFrame is empty, cannot proceed with training.\")\n"
      ]
    },
    {
      "cell_type": "code",
      "execution_count": null,
      "metadata": {
        "colab": {
          "base_uri": "https://localhost:8080/"
        },
        "id": "JxkCHR5T6Oe3",
        "outputId": "255e3d7d-2e96-4184-d7d2-c855025312a7"
      },
      "outputs": [
        {
          "name": "stdout",
          "output_type": "stream",
          "text": [
            "Index(['City_x', 'Temp', 'wind speed', 'pressure', ' Humidity', 'City_y',\n",
            "       'NO2_ground', 'Date', 'City', 'Longitude', 'latitude', 'NO2'],\n",
            "      dtype='object')\n"
          ]
        }
      ],
      "source": [
        "print(final_merged_dataset.columns)\n"
      ]
    },
    {
      "cell_type": "code",
      "execution_count": null,
      "metadata": {
        "colab": {
          "base_uri": "https://localhost:8080/"
        },
        "id": "UVMGUs896kZE",
        "outputId": "427ddb34-7a8c-421e-be9f-17b381eb5e65"
      },
      "outputs": [
        {
          "name": "stdout",
          "output_type": "stream",
          "text": [
            "Number of samples in features: 0\n",
            "Number of samples in target: 0\n",
            "Missing values in features:\n",
            " Longitude     0\n",
            "latitude      0\n",
            "Temp          0\n",
            "wind speed    0\n",
            "pressure      0\n",
            " Humidity     0\n",
            "dtype: int64\n",
            "Missing values in target:\n",
            " 0\n",
            "Number of samples in features after dropping NA: 0\n",
            "Number of samples in target after dropping NA: 0\n",
            "Error: Features or target is empty after processing.\n"
          ]
        }
      ],
      "source": [
        "# Check the size of the features and target\n",
        "print(f\"Number of samples in features: {features.shape[0]}\")\n",
        "print(f\"Number of samples in target: {target.shape[0]}\")\n",
        "\n",
        "# Check for missing values\n",
        "print(\"Missing values in features:\\n\", features.isnull().sum())\n",
        "print(\"Missing values in target:\\n\", target.isnull().sum())\n",
        "\n",
        "# Ensure there are no missing values\n",
        "features = features.dropna()\n",
        "target = target.dropna()\n",
        "\n",
        "# After dropping, check the sizes again\n",
        "print(f\"Number of samples in features after dropping NA: {features.shape[0]}\")\n",
        "print(f\"Number of samples in target after dropping NA: {target.shape[0]}\")\n",
        "\n",
        "# Split the data into training and testing sets\n",
        "if not features.empty and not target.empty:\n",
        "    X_train, X_test, y_train, y_test = train_test_split(features, target, test_size=0.2, random_state=42)\n",
        "else:\n",
        "    print(\"Error: Features or target is empty after processing.\")\n"
      ]
    },
    {
      "cell_type": "code",
      "execution_count": null,
      "metadata": {
        "colab": {
          "base_uri": "https://localhost:8080/"
        },
        "id": "JMbQND_q6vZg",
        "outputId": "5ae20f9c-7a72-4dee-bc05-3b4543f27ee2"
      },
      "outputs": [
        {
          "name": "stdout",
          "output_type": "stream",
          "text": [
            "Merged Dataset Preview:\n",
            "Empty DataFrame\n",
            "Columns: [City_x, Temp, wind speed, pressure,  Humidity, City_y, NO2_ground, Date, City, Longitude, latitude, NO2]\n",
            "Index: []\n",
            "Total number of samples in merged dataset: 0\n",
            "Missing values in merged dataset:\n",
            " City_x        0\n",
            "Temp          0\n",
            "wind speed    0\n",
            "pressure      0\n",
            " Humidity     0\n",
            "City_y        0\n",
            "NO2_ground    0\n",
            "Date          0\n",
            "City          0\n",
            "Longitude     0\n",
            "latitude      0\n",
            "NO2           0\n",
            "dtype: int64\n",
            "Merged dataset is empty. There might be an issue with how the data is merged.\n"
          ]
        }
      ],
      "source": [
        "# Inspect the merged dataset\n",
        "print(\"Merged Dataset Preview:\")\n",
        "print(final_merged_dataset.head())\n",
        "\n",
        "print(f\"Total number of samples in merged dataset: {final_merged_dataset.shape[0]}\")\n",
        "\n",
        "# Check for missing values in the merged dataset\n",
        "print(\"Missing values in merged dataset:\\n\", final_merged_dataset.isnull().sum())\n",
        "\n",
        "# Verify that the merged dataset has relevant data\n",
        "if final_merged_dataset.empty:\n",
        "    print(\"Merged dataset is empty. There might be an issue with how the data is merged.\")\n",
        "else:\n",
        "    # Define the target as the 'NO2' column\n",
        "    target = final_merged_dataset['NO2']\n",
        "\n",
        "    # Select features\n",
        "    features = final_merged_dataset[['Longitude', 'latitude', 'Temp', 'wind speed', 'pressure', ' Humidity']]\n",
        "\n",
        "    print(f\"Number of samples in features after selection: {features.shape[0]}\")\n",
        "    print(f\"Number of samples in target after selection: {target.shape[0]}\")\n"
      ]
    },
    {
      "cell_type": "code",
      "execution_count": 8,
      "metadata": {
        "colab": {
          "base_uri": "https://localhost:8080/"
        },
        "id": "EcZgEwEn-61u",
        "outputId": "b1e07891-e285-4d35-f9ef-9208d6b1ae1b"
      },
      "outputs": [
        {
          "name": "stdout",
          "output_type": "stream",
          "text": [
            "Ground Data - Date Preview:\n",
            "0    2022-01-01\n",
            "1    2022-01-02\n",
            "2    2022-01-03\n",
            "3    2022-01-04\n",
            "4    2022-01-05\n",
            "Name: Date, dtype: object\n",
            "Modified Dataset - Date Preview:\n",
            "0    2022-01-01\n",
            "1    2022-01-02\n",
            "2    2022-01-03\n",
            "3    2022-01-04\n",
            "4    2022-01-05\n",
            "Name: Date, dtype: object\n",
            "Output File - Date Preview:\n",
            "0    2022-01-01\n",
            "1    2022-01-02\n",
            "2    2022-01-03\n",
            "3    2022-01-04\n",
            "4    2022-01-05\n",
            "Name: Date, dtype: object\n",
            "Number of common dates: 973\n",
            "Final Merged Dataset Preview:\n",
            "        Date         City_x  Temp  wind speed  pressure   Humidity  \\\n",
            "0 2022-01-01  Greater Noida  11.4         2.8    1022.4         27   \n",
            "1 2022-01-02  Greater Noida  12.1         2.2    1021.0         32   \n",
            "2 2022-01-03  Greater Noida  13.2         2.6    1018.9         44   \n",
            "3 2022-01-04  Greater Noida  15.2         1.7    1017.6         41   \n",
            "4 2022-01-05  Greater Noida  13.3         3.9    1016.8         47   \n",
            "\n",
            "          City_y  NO2_ground           City  Longitude  latitude        NO2  \n",
            "0  Greater Noida   19.206733  Greater Noida      77.16     28.61  14.573472  \n",
            "1  Greater Noida   23.553651  Greater Noida      77.19     28.63  17.658675  \n",
            "2  Greater Noida   22.848905  Greater Noida      77.23     28.67  17.658675  \n",
            "3  Greater Noida   22.890361  Greater Noida      77.25     28.69  17.658675  \n",
            "4  Greater Noida   22.309982  Greater Noida      77.29     28.73  17.658675  \n",
            "Total number of samples in final merged dataset: 973\n"
          ]
        }
      ],
      "source": [
        "# Load the datasets again to inspect the Date columns\n",
        "modified_dataset = pd.read_csv('feature_data.csv')\n",
        "ground_data = pd.read_csv('modified_ground_data_2.csv')\n",
        "output_file = pd.read_excel('Modified_NO2_Data.xlsx')\n",
        "\n",
        "\n",
        "# Check the date formats and unique dates\n",
        "print(\"Ground Data - Date Preview:\")\n",
        "print(ground_data['Date'].head())\n",
        "print(\"Modified Dataset - Date Preview:\")\n",
        "print(modified_dataset['Date'].head())\n",
        "print(\"Output File - Date Preview:\")\n",
        "print(output_file['Date'].head())\n",
        "\n",
        "# Convert dates to a consistent format if needed\n",
        "ground_data['Date'] = pd.to_datetime(ground_data['Date'])\n",
        "modified_dataset['Date'] = pd.to_datetime(modified_dataset['Date'])\n",
        "output_file['Date'] = pd.to_datetime(output_file['Date'])\n",
        "\n",
        "# Find common dates\n",
        "common_dates = set(ground_data['Date']).intersection(set(modified_dataset['Date'])).intersection(set(output_file['Date']))\n",
        "print(f\"Number of common dates: {len(common_dates)}\")\n",
        "\n",
        "# Filter datasets to keep only common dates\n",
        "ground_data_filtered = ground_data[ground_data['Date'].isin(common_dates)]\n",
        "modified_dataset_filtered = modified_dataset[modified_dataset['Date'].isin(common_dates)]\n",
        "output_file_filtered = output_file[output_file['Date'].isin(common_dates)]\n",
        "\n",
        "# Merge again based on Date\n",
        "final_merged_dataset = pd.merge(modified_dataset_filtered, ground_data_filtered, on='Date', how='inner')\n",
        "final_merged_dataset = pd.merge(final_merged_dataset, output_file_filtered, on='Date', how='inner')\n",
        "\n",
        "# Check the result\n",
        "print(\"Final Merged Dataset Preview:\")\n",
        "print(final_merged_dataset.head())\n",
        "print(f\"Total number of samples in final merged dataset: {final_merged_dataset.shape[0]}\")\n",
        "\n"
      ]
    },
    {
      "cell_type": "code",
      "execution_count": 24,
      "metadata": {},
      "outputs": [
        {
          "name": "stdout",
          "output_type": "stream",
          "text": [
            "Collecting xgboost\n",
            "  Downloading xgboost-2.1.1-py3-none-win_amd64.whl.metadata (2.1 kB)\n",
            "Requirement already satisfied: numpy in c:\\users\\umang\\anaconda3\\envs\\agritech\\lib\\site-packages (from xgboost) (1.26.4)\n",
            "Requirement already satisfied: scipy in c:\\users\\umang\\anaconda3\\envs\\agritech\\lib\\site-packages (from xgboost) (1.13.1)\n",
            "Downloading xgboost-2.1.1-py3-none-win_amd64.whl (124.9 MB)\n",
            "   ---------------------------------------- 0.0/124.9 MB ? eta -:--:--\n",
            "   ---------------------------------------- 0.3/124.9 MB 6.5 MB/s eta 0:00:20\n",
            "   ---------------------------------------- 0.8/124.9 MB 6.1 MB/s eta 0:00:21\n",
            "   ---------------------------------------- 1.4/124.9 MB 7.3 MB/s eta 0:00:17\n",
            "   ---------------------------------------- 1.5/124.9 MB 6.0 MB/s eta 0:00:21\n",
            "    --------------------------------------- 2.1/124.9 MB 7.1 MB/s eta 0:00:18\n",
            "    --------------------------------------- 2.7/124.9 MB 7.9 MB/s eta 0:00:16\n",
            "   - -------------------------------------- 3.3/124.9 MB 8.5 MB/s eta 0:00:15\n",
            "   - -------------------------------------- 3.9/124.9 MB 9.0 MB/s eta 0:00:14\n",
            "   - -------------------------------------- 4.5/124.9 MB 9.3 MB/s eta 0:00:13\n",
            "   - -------------------------------------- 5.2/124.9 MB 9.7 MB/s eta 0:00:13\n",
            "   - -------------------------------------- 5.8/124.9 MB 10.0 MB/s eta 0:00:12\n",
            "   -- ------------------------------------- 6.4/124.9 MB 10.2 MB/s eta 0:00:12\n",
            "   -- ------------------------------------- 7.0/124.9 MB 10.4 MB/s eta 0:00:12\n",
            "   -- ------------------------------------- 7.5/124.9 MB 10.5 MB/s eta 0:00:12\n",
            "   -- ------------------------------------- 8.1/124.9 MB 10.5 MB/s eta 0:00:12\n",
            "   -- ------------------------------------- 9.0/124.9 MB 10.7 MB/s eta 0:00:11\n",
            "   --- ------------------------------------ 9.5/124.9 MB 10.9 MB/s eta 0:00:11\n",
            "   --- ------------------------------------ 10.2/124.9 MB 10.8 MB/s eta 0:00:11\n",
            "   --- ------------------------------------ 10.8/124.9 MB 11.7 MB/s eta 0:00:10\n",
            "   --- ------------------------------------ 11.0/124.9 MB 11.7 MB/s eta 0:00:10\n",
            "   --- ------------------------------------ 11.0/124.9 MB 11.7 MB/s eta 0:00:10\n",
            "   --- ------------------------------------ 11.0/124.9 MB 11.7 MB/s eta 0:00:10\n",
            "   --- ------------------------------------ 11.0/124.9 MB 9.8 MB/s eta 0:00:12\n",
            "   --- ------------------------------------ 11.4/124.9 MB 9.2 MB/s eta 0:00:13\n",
            "   --- ------------------------------------ 11.9/124.9 MB 9.6 MB/s eta 0:00:12\n",
            "   ---- ----------------------------------- 12.6/124.9 MB 9.6 MB/s eta 0:00:12\n",
            "   ---- ----------------------------------- 13.1/124.9 MB 9.6 MB/s eta 0:00:12\n",
            "   ---- ----------------------------------- 13.8/124.9 MB 9.6 MB/s eta 0:00:12\n",
            "   ---- ----------------------------------- 14.3/124.9 MB 9.6 MB/s eta 0:00:12\n",
            "   ---- ----------------------------------- 14.5/124.9 MB 9.5 MB/s eta 0:00:12\n",
            "   ---- ----------------------------------- 14.5/124.9 MB 9.5 MB/s eta 0:00:12\n",
            "   ---- ----------------------------------- 14.5/124.9 MB 9.5 MB/s eta 0:00:12\n",
            "   ---- ----------------------------------- 14.5/124.9 MB 9.5 MB/s eta 0:00:12\n",
            "   ---- ----------------------------------- 14.5/124.9 MB 9.5 MB/s eta 0:00:12\n",
            "   ---- ----------------------------------- 14.8/124.9 MB 7.7 MB/s eta 0:00:15\n",
            "   ---- ----------------------------------- 15.4/124.9 MB 7.7 MB/s eta 0:00:15\n",
            "   ----- ---------------------------------- 16.0/124.9 MB 7.7 MB/s eta 0:00:15\n",
            "   ----- ---------------------------------- 16.6/124.9 MB 7.7 MB/s eta 0:00:15\n",
            "   ----- ---------------------------------- 17.0/124.9 MB 7.6 MB/s eta 0:00:15\n",
            "   ----- ---------------------------------- 17.8/124.9 MB 7.7 MB/s eta 0:00:14\n",
            "   ----- ---------------------------------- 18.0/124.9 MB 7.6 MB/s eta 0:00:15\n",
            "   ----- ---------------------------------- 18.0/124.9 MB 7.6 MB/s eta 0:00:15\n",
            "   ----- ---------------------------------- 18.0/124.9 MB 7.6 MB/s eta 0:00:15\n",
            "   ----- ---------------------------------- 18.0/124.9 MB 7.6 MB/s eta 0:00:15\n",
            "   ----- ---------------------------------- 18.0/124.9 MB 7.6 MB/s eta 0:00:15\n",
            "   ----- ---------------------------------- 18.0/124.9 MB 7.6 MB/s eta 0:00:15\n",
            "   ----- ---------------------------------- 18.6/124.9 MB 6.5 MB/s eta 0:00:17\n",
            "   ------ --------------------------------- 19.2/124.9 MB 6.5 MB/s eta 0:00:17\n",
            "   ------ --------------------------------- 19.8/124.9 MB 6.5 MB/s eta 0:00:17\n",
            "   ------ --------------------------------- 20.4/124.9 MB 6.5 MB/s eta 0:00:17\n",
            "   ------ --------------------------------- 21.0/124.9 MB 6.5 MB/s eta 0:00:17\n",
            "   ------ --------------------------------- 21.5/124.9 MB 7.8 MB/s eta 0:00:14\n",
            "   ------ --------------------------------- 21.5/124.9 MB 7.8 MB/s eta 0:00:14\n",
            "   ------ --------------------------------- 21.5/124.9 MB 7.8 MB/s eta 0:00:14\n",
            "   ------ --------------------------------- 21.5/124.9 MB 7.8 MB/s eta 0:00:14\n",
            "   ------ --------------------------------- 21.5/124.9 MB 7.8 MB/s eta 0:00:14\n",
            "   ------ --------------------------------- 21.5/124.9 MB 7.8 MB/s eta 0:00:14\n",
            "   ------- -------------------------------- 21.9/124.9 MB 6.5 MB/s eta 0:00:16\n",
            "   ------- -------------------------------- 22.5/124.9 MB 6.5 MB/s eta 0:00:16\n",
            "   ------- -------------------------------- 23.0/124.9 MB 6.4 MB/s eta 0:00:16\n",
            "   ------- -------------------------------- 23.9/124.9 MB 6.4 MB/s eta 0:00:16\n",
            "   ------- -------------------------------- 24.5/124.9 MB 6.4 MB/s eta 0:00:16\n",
            "   -------- ------------------------------- 25.1/124.9 MB 7.7 MB/s eta 0:00:13\n",
            "   -------- ------------------------------- 25.2/124.9 MB 7.7 MB/s eta 0:00:13\n",
            "   -------- ------------------------------- 25.2/124.9 MB 7.7 MB/s eta 0:00:13\n",
            "   -------- ------------------------------- 25.2/124.9 MB 7.7 MB/s eta 0:00:13\n",
            "   -------- ------------------------------- 25.2/124.9 MB 7.7 MB/s eta 0:00:13\n",
            "   -------- ------------------------------- 25.2/124.9 MB 7.7 MB/s eta 0:00:13\n",
            "   -------- ------------------------------- 25.5/124.9 MB 6.4 MB/s eta 0:00:16\n",
            "   -------- ------------------------------- 26.2/124.9 MB 6.4 MB/s eta 0:00:16\n",
            "   -------- ------------------------------- 26.8/124.9 MB 6.4 MB/s eta 0:00:16\n",
            "   -------- ------------------------------- 27.4/124.9 MB 6.5 MB/s eta 0:00:16\n",
            "   -------- ------------------------------- 28.0/124.9 MB 6.5 MB/s eta 0:00:15\n",
            "   --------- ------------------------------ 28.6/124.9 MB 7.7 MB/s eta 0:00:13\n",
            "   --------- ------------------------------ 28.7/124.9 MB 7.7 MB/s eta 0:00:13\n",
            "   --------- ------------------------------ 28.7/124.9 MB 7.7 MB/s eta 0:00:13\n",
            "   --------- ------------------------------ 28.7/124.9 MB 7.7 MB/s eta 0:00:13\n",
            "   --------- ------------------------------ 28.7/124.9 MB 7.7 MB/s eta 0:00:13\n",
            "   --------- ------------------------------ 28.7/124.9 MB 7.7 MB/s eta 0:00:13\n",
            "   --------- ------------------------------ 28.9/124.9 MB 6.4 MB/s eta 0:00:15\n",
            "   --------- ------------------------------ 29.5/124.9 MB 6.4 MB/s eta 0:00:15\n",
            "   --------- ------------------------------ 30.1/124.9 MB 6.4 MB/s eta 0:00:15\n",
            "   --------- ------------------------------ 31.1/124.9 MB 6.4 MB/s eta 0:00:15\n",
            "   ---------- ----------------------------- 31.6/124.9 MB 6.4 MB/s eta 0:00:15\n",
            "   ---------- ----------------------------- 32.1/124.9 MB 7.7 MB/s eta 0:00:13\n",
            "   ---------- ----------------------------- 32.1/124.9 MB 7.7 MB/s eta 0:00:13\n",
            "   ---------- ----------------------------- 32.1/124.9 MB 7.7 MB/s eta 0:00:13\n",
            "   ---------- ----------------------------- 32.1/124.9 MB 7.7 MB/s eta 0:00:13\n",
            "   ---------- ----------------------------- 32.2/124.9 MB 6.7 MB/s eta 0:00:14\n",
            "   ---------- ----------------------------- 32.3/124.9 MB 6.5 MB/s eta 0:00:15\n",
            "   ---------- ----------------------------- 32.9/124.9 MB 6.5 MB/s eta 0:00:15\n",
            "   ---------- ----------------------------- 33.5/124.9 MB 6.6 MB/s eta 0:00:14\n",
            "   ---------- ----------------------------- 34.1/124.9 MB 6.5 MB/s eta 0:00:14\n",
            "   ----------- ---------------------------- 34.7/124.9 MB 6.5 MB/s eta 0:00:14\n",
            "   ----------- ---------------------------- 35.3/124.9 MB 6.5 MB/s eta 0:00:14\n",
            "   ----------- ---------------------------- 35.6/124.9 MB 7.9 MB/s eta 0:00:12\n",
            "   ----------- ---------------------------- 35.6/124.9 MB 7.9 MB/s eta 0:00:12\n",
            "   ----------- ---------------------------- 35.6/124.9 MB 7.9 MB/s eta 0:00:12\n",
            "   ----------- ---------------------------- 35.6/124.9 MB 7.9 MB/s eta 0:00:12\n",
            "   ----------- ---------------------------- 35.6/124.9 MB 7.9 MB/s eta 0:00:12\n",
            "   ----------- ---------------------------- 35.8/124.9 MB 6.5 MB/s eta 0:00:14\n",
            "   ----------- ---------------------------- 36.3/124.9 MB 6.5 MB/s eta 0:00:14\n",
            "   ----------- ---------------------------- 36.9/124.9 MB 6.5 MB/s eta 0:00:14\n",
            "   ------------ --------------------------- 37.5/124.9 MB 6.5 MB/s eta 0:00:14\n",
            "   ------------ --------------------------- 38.1/124.9 MB 6.5 MB/s eta 0:00:14\n",
            "   ------------ --------------------------- 38.8/124.9 MB 6.5 MB/s eta 0:00:14\n",
            "   ------------ --------------------------- 39.1/124.9 MB 7.9 MB/s eta 0:00:11\n",
            "   ------------ --------------------------- 39.1/124.9 MB 7.9 MB/s eta 0:00:11\n",
            "   ------------ --------------------------- 39.1/124.9 MB 7.9 MB/s eta 0:00:11\n",
            "   ------------ --------------------------- 39.1/124.9 MB 7.9 MB/s eta 0:00:11\n",
            "   ------------ --------------------------- 39.1/124.9 MB 7.9 MB/s eta 0:00:11\n",
            "   ------------ --------------------------- 39.2/124.9 MB 6.5 MB/s eta 0:00:14\n",
            "   ------------ --------------------------- 39.9/124.9 MB 6.5 MB/s eta 0:00:14\n",
            "   ------------ --------------------------- 40.5/124.9 MB 6.7 MB/s eta 0:00:13\n",
            "   ------------- -------------------------- 41.1/124.9 MB 6.5 MB/s eta 0:00:13\n",
            "   ------------- -------------------------- 41.7/124.9 MB 6.5 MB/s eta 0:00:13\n",
            "   ------------- -------------------------- 42.3/124.9 MB 6.5 MB/s eta 0:00:13\n",
            "   ------------- -------------------------- 42.6/124.9 MB 7.7 MB/s eta 0:00:11\n",
            "   ------------- -------------------------- 42.6/124.9 MB 7.7 MB/s eta 0:00:11\n",
            "   ------------- -------------------------- 42.6/124.9 MB 7.7 MB/s eta 0:00:11\n",
            "   ------------- -------------------------- 42.6/124.9 MB 7.7 MB/s eta 0:00:11\n",
            "   ------------- -------------------------- 42.6/124.9 MB 7.7 MB/s eta 0:00:11\n",
            "   ------------- -------------------------- 42.6/124.9 MB 6.7 MB/s eta 0:00:13\n",
            "   ------------- -------------------------- 43.2/124.9 MB 6.5 MB/s eta 0:00:13\n",
            "   -------------- ------------------------- 43.8/124.9 MB 6.5 MB/s eta 0:00:13\n",
            "   -------------- ------------------------- 44.4/124.9 MB 6.5 MB/s eta 0:00:13\n",
            "   -------------- ------------------------- 45.0/124.9 MB 6.5 MB/s eta 0:00:13\n",
            "   -------------- ------------------------- 45.6/124.9 MB 6.5 MB/s eta 0:00:13\n",
            "   -------------- ------------------------- 46.0/124.9 MB 7.8 MB/s eta 0:00:11\n",
            "   -------------- ------------------------- 46.0/124.9 MB 7.8 MB/s eta 0:00:11\n",
            "   -------------- ------------------------- 46.0/124.9 MB 7.8 MB/s eta 0:00:11\n",
            "   -------------- ------------------------- 46.0/124.9 MB 7.8 MB/s eta 0:00:11\n",
            "   -------------- ------------------------- 46.0/124.9 MB 7.8 MB/s eta 0:00:11\n",
            "   -------------- ------------------------- 46.0/124.9 MB 7.8 MB/s eta 0:00:11\n",
            "   -------------- ------------------------- 46.6/124.9 MB 6.5 MB/s eta 0:00:13\n",
            "   --------------- ------------------------ 47.2/124.9 MB 6.5 MB/s eta 0:00:12\n",
            "   --------------- ------------------------ 47.8/124.9 MB 6.5 MB/s eta 0:00:12\n",
            "   --------------- ------------------------ 48.4/124.9 MB 6.5 MB/s eta 0:00:12\n",
            "   --------------- ------------------------ 49.0/124.9 MB 6.5 MB/s eta 0:00:12\n",
            "   --------------- ------------------------ 49.6/124.9 MB 7.7 MB/s eta 0:00:10\n",
            "   --------------- ------------------------ 49.7/124.9 MB 7.8 MB/s eta 0:00:10\n",
            "   --------------- ------------------------ 49.7/124.9 MB 7.8 MB/s eta 0:00:10\n",
            "   --------------- ------------------------ 49.7/124.9 MB 7.8 MB/s eta 0:00:10\n",
            "   --------------- ------------------------ 49.7/124.9 MB 7.8 MB/s eta 0:00:10\n",
            "   --------------- ------------------------ 49.7/124.9 MB 7.8 MB/s eta 0:00:10\n",
            "   --------------- ------------------------ 49.9/124.9 MB 6.5 MB/s eta 0:00:12\n",
            "   ---------------- ----------------------- 50.7/124.9 MB 6.5 MB/s eta 0:00:12\n",
            "   ---------------- ----------------------- 51.3/124.9 MB 6.5 MB/s eta 0:00:12\n",
            "   ---------------- ----------------------- 51.9/124.9 MB 6.5 MB/s eta 0:00:12\n",
            "   ---------------- ----------------------- 52.5/124.9 MB 6.5 MB/s eta 0:00:12\n",
            "   ----------------- ---------------------- 53.1/124.9 MB 7.7 MB/s eta 0:00:10\n",
            "   ----------------- ---------------------- 53.2/124.9 MB 7.8 MB/s eta 0:00:10\n",
            "   ----------------- ---------------------- 53.2/124.9 MB 7.8 MB/s eta 0:00:10\n",
            "   ----------------- ---------------------- 53.2/124.9 MB 7.8 MB/s eta 0:00:10\n",
            "   ----------------- ---------------------- 53.2/124.9 MB 7.8 MB/s eta 0:00:10\n",
            "   ----------------- ---------------------- 53.2/124.9 MB 7.8 MB/s eta 0:00:10\n",
            "   ----------------- ---------------------- 53.6/124.9 MB 6.5 MB/s eta 0:00:11\n",
            "   ----------------- ---------------------- 54.2/124.9 MB 6.5 MB/s eta 0:00:11\n",
            "   ----------------- ---------------------- 54.8/124.9 MB 6.5 MB/s eta 0:00:11\n",
            "   ----------------- ---------------------- 55.4/124.9 MB 6.5 MB/s eta 0:00:11\n",
            "   ----------------- ---------------------- 56.0/124.9 MB 6.4 MB/s eta 0:00:11\n",
            "   ------------------ --------------------- 56.6/124.9 MB 7.8 MB/s eta 0:00:09\n",
            "   ------------------ --------------------- 56.9/124.9 MB 7.7 MB/s eta 0:00:09\n",
            "   ------------------ --------------------- 56.9/124.9 MB 7.7 MB/s eta 0:00:09\n",
            "   ------------------ --------------------- 56.9/124.9 MB 7.7 MB/s eta 0:00:09\n",
            "   ------------------ --------------------- 56.9/124.9 MB 7.7 MB/s eta 0:00:09\n",
            "   ------------------ --------------------- 56.9/124.9 MB 7.7 MB/s eta 0:00:09\n",
            "   ------------------ --------------------- 56.9/124.9 MB 7.7 MB/s eta 0:00:09\n",
            "   ------------------ --------------------- 57.4/124.9 MB 6.5 MB/s eta 0:00:11\n",
            "   ------------------ --------------------- 58.1/124.9 MB 6.5 MB/s eta 0:00:11\n",
            "   ------------------ --------------------- 58.7/124.9 MB 6.5 MB/s eta 0:00:11\n",
            "   ------------------ --------------------- 59.2/124.9 MB 6.5 MB/s eta 0:00:11\n",
            "   ------------------- -------------------- 59.8/124.9 MB 6.5 MB/s eta 0:00:11\n",
            "   ------------------- -------------------- 60.4/124.9 MB 7.9 MB/s eta 0:00:09\n",
            "   ------------------- -------------------- 60.4/124.9 MB 7.9 MB/s eta 0:00:09\n",
            "   ------------------- -------------------- 60.4/124.9 MB 7.9 MB/s eta 0:00:09\n",
            "   ------------------- -------------------- 60.4/124.9 MB 7.9 MB/s eta 0:00:09\n",
            "   ------------------- -------------------- 60.4/124.9 MB 7.9 MB/s eta 0:00:09\n",
            "   ------------------- -------------------- 60.4/124.9 MB 7.9 MB/s eta 0:00:09\n",
            "   ------------------- -------------------- 60.7/124.9 MB 6.4 MB/s eta 0:00:11\n",
            "   ------------------- -------------------- 61.3/124.9 MB 6.5 MB/s eta 0:00:10\n",
            "   ------------------- -------------------- 62.0/124.9 MB 6.5 MB/s eta 0:00:10\n",
            "   -------------------- ------------------- 62.5/124.9 MB 6.5 MB/s eta 0:00:10\n",
            "   -------------------- ------------------- 63.2/124.9 MB 6.5 MB/s eta 0:00:10\n",
            "   -------------------- ------------------- 63.7/124.9 MB 7.7 MB/s eta 0:00:08\n",
            "   -------------------- ------------------- 63.8/124.9 MB 7.8 MB/s eta 0:00:08\n",
            "   -------------------- ------------------- 63.8/124.9 MB 7.8 MB/s eta 0:00:08\n",
            "   -------------------- ------------------- 63.8/124.9 MB 7.8 MB/s eta 0:00:08\n",
            "   -------------------- ------------------- 63.8/124.9 MB 7.8 MB/s eta 0:00:08\n",
            "   -------------------- ------------------- 63.8/124.9 MB 7.8 MB/s eta 0:00:08\n",
            "   -------------------- ------------------- 64.3/124.9 MB 6.5 MB/s eta 0:00:10\n",
            "   -------------------- ------------------- 65.0/124.9 MB 6.5 MB/s eta 0:00:10\n",
            "   -------------------- ------------------- 65.5/124.9 MB 6.5 MB/s eta 0:00:10\n",
            "   --------------------- ------------------ 66.5/124.9 MB 6.5 MB/s eta 0:00:10\n",
            "   --------------------- ------------------ 67.1/124.9 MB 6.5 MB/s eta 0:00:09\n",
            "   --------------------- ------------------ 67.3/124.9 MB 7.8 MB/s eta 0:00:08\n",
            "   --------------------- ------------------ 67.3/124.9 MB 7.8 MB/s eta 0:00:08\n",
            "   --------------------- ------------------ 67.3/124.9 MB 7.8 MB/s eta 0:00:08\n",
            "   --------------------- ------------------ 67.3/124.9 MB 7.8 MB/s eta 0:00:08\n",
            "   --------------------- ------------------ 67.3/124.9 MB 7.8 MB/s eta 0:00:08\n",
            "   --------------------- ------------------ 67.5/124.9 MB 6.4 MB/s eta 0:00:09\n",
            "   --------------------- ------------------ 68.2/124.9 MB 6.4 MB/s eta 0:00:09\n",
            "   ---------------------- ----------------- 68.8/124.9 MB 6.4 MB/s eta 0:00:09\n",
            "   ---------------------- ----------------- 69.4/124.9 MB 6.4 MB/s eta 0:00:09\n",
            "   ---------------------- ----------------- 70.0/124.9 MB 6.4 MB/s eta 0:00:09\n",
            "   ---------------------- ----------------- 70.6/124.9 MB 6.4 MB/s eta 0:00:09\n",
            "   ---------------------- ----------------- 70.9/124.9 MB 7.8 MB/s eta 0:00:07\n",
            "   ---------------------- ----------------- 70.9/124.9 MB 7.8 MB/s eta 0:00:07\n",
            "   ---------------------- ----------------- 70.9/124.9 MB 7.8 MB/s eta 0:00:07\n",
            "   ---------------------- ----------------- 70.9/124.9 MB 7.8 MB/s eta 0:00:07\n",
            "   ---------------------- ----------------- 70.9/124.9 MB 7.8 MB/s eta 0:00:07\n",
            "   ---------------------- ----------------- 71.1/124.9 MB 6.5 MB/s eta 0:00:09\n",
            "   ---------------------- ----------------- 71.7/124.9 MB 6.5 MB/s eta 0:00:09\n",
            "   ----------------------- ---------------- 72.3/124.9 MB 6.5 MB/s eta 0:00:09\n",
            "   ----------------------- ---------------- 73.0/124.9 MB 6.5 MB/s eta 0:00:08\n",
            "   ----------------------- ---------------- 73.5/124.9 MB 6.5 MB/s eta 0:00:08\n",
            "   ----------------------- ---------------- 74.1/124.9 MB 7.7 MB/s eta 0:00:07\n",
            "   ----------------------- ---------------- 74.3/124.9 MB 7.8 MB/s eta 0:00:07\n",
            "   ----------------------- ---------------- 74.3/124.9 MB 7.8 MB/s eta 0:00:07\n",
            "   ----------------------- ---------------- 74.3/124.9 MB 7.8 MB/s eta 0:00:07\n",
            "   ----------------------- ---------------- 74.3/124.9 MB 7.8 MB/s eta 0:00:07\n",
            "   ----------------------- ---------------- 74.3/124.9 MB 7.8 MB/s eta 0:00:07\n",
            "   ----------------------- ---------------- 74.5/124.9 MB 6.5 MB/s eta 0:00:08\n",
            "   ------------------------ --------------- 75.1/124.9 MB 6.5 MB/s eta 0:00:08\n",
            "   ------------------------ --------------- 75.7/124.9 MB 6.5 MB/s eta 0:00:08\n",
            "   ------------------------ --------------- 76.3/124.9 MB 6.5 MB/s eta 0:00:08\n",
            "   ------------------------ --------------- 76.9/124.9 MB 6.5 MB/s eta 0:00:08\n",
            "   ------------------------ --------------- 77.6/124.9 MB 7.9 MB/s eta 0:00:07\n",
            "   ------------------------ --------------- 77.8/124.9 MB 8.0 MB/s eta 0:00:06\n",
            "   ------------------------ --------------- 77.8/124.9 MB 8.0 MB/s eta 0:00:06\n",
            "   ------------------------ --------------- 77.8/124.9 MB 8.0 MB/s eta 0:00:06\n",
            "   ------------------------ --------------- 77.8/124.9 MB 8.0 MB/s eta 0:00:06\n",
            "   ------------------------ --------------- 77.8/124.9 MB 8.0 MB/s eta 0:00:06\n",
            "   ------------------------- -------------- 78.2/124.9 MB 6.6 MB/s eta 0:00:08\n",
            "   ------------------------- -------------- 78.7/124.9 MB 6.6 MB/s eta 0:00:07\n",
            "   ------------------------- -------------- 79.1/124.9 MB 6.5 MB/s eta 0:00:07\n",
            "   ------------------------- -------------- 80.1/124.9 MB 6.6 MB/s eta 0:00:07\n",
            "   ------------------------- -------------- 80.7/124.9 MB 6.6 MB/s eta 0:00:07\n",
            "   -------------------------- ------------- 81.3/124.9 MB 7.9 MB/s eta 0:00:06\n",
            "   -------------------------- ------------- 81.3/124.9 MB 7.9 MB/s eta 0:00:06\n",
            "   -------------------------- ------------- 81.3/124.9 MB 7.9 MB/s eta 0:00:06\n",
            "   -------------------------- ------------- 81.3/124.9 MB 7.9 MB/s eta 0:00:06\n",
            "   -------------------------- ------------- 81.3/124.9 MB 7.9 MB/s eta 0:00:06\n",
            "   -------------------------- ------------- 81.3/124.9 MB 7.9 MB/s eta 0:00:06\n",
            "   -------------------------- ------------- 81.8/124.9 MB 6.5 MB/s eta 0:00:07\n",
            "   -------------------------- ------------- 82.5/124.9 MB 6.5 MB/s eta 0:00:07\n",
            "   -------------------------- ------------- 83.1/124.9 MB 6.5 MB/s eta 0:00:07\n",
            "   -------------------------- ------------- 83.7/124.9 MB 6.5 MB/s eta 0:00:07\n",
            "   --------------------------- ------------ 84.3/124.9 MB 6.5 MB/s eta 0:00:07\n",
            "   --------------------------- ------------ 84.7/124.9 MB 7.8 MB/s eta 0:00:06\n",
            "   --------------------------- ------------ 84.8/124.9 MB 7.8 MB/s eta 0:00:06\n",
            "   --------------------------- ------------ 84.8/124.9 MB 7.8 MB/s eta 0:00:06\n",
            "   --------------------------- ------------ 84.8/124.9 MB 7.8 MB/s eta 0:00:06\n",
            "   --------------------------- ------------ 84.8/124.9 MB 7.8 MB/s eta 0:00:06\n",
            "   --------------------------- ------------ 84.8/124.9 MB 7.8 MB/s eta 0:00:06\n",
            "   --------------------------- ------------ 85.1/124.9 MB 6.5 MB/s eta 0:00:07\n",
            "   --------------------------- ------------ 85.7/124.9 MB 6.5 MB/s eta 0:00:06\n",
            "   --------------------------- ------------ 86.4/124.9 MB 6.5 MB/s eta 0:00:06\n",
            "   --------------------------- ------------ 87.0/124.9 MB 6.5 MB/s eta 0:00:06\n",
            "   ---------------------------- ----------- 87.6/124.9 MB 6.5 MB/s eta 0:00:06\n",
            "   ---------------------------- ----------- 88.2/124.9 MB 7.8 MB/s eta 0:00:05\n",
            "   ---------------------------- ----------- 88.3/124.9 MB 7.7 MB/s eta 0:00:05\n",
            "   ---------------------------- ----------- 88.3/124.9 MB 7.7 MB/s eta 0:00:05\n",
            "   ---------------------------- ----------- 88.3/124.9 MB 7.7 MB/s eta 0:00:05\n",
            "   ---------------------------- ----------- 88.3/124.9 MB 7.7 MB/s eta 0:00:05\n",
            "   ---------------------------- ----------- 88.3/124.9 MB 7.7 MB/s eta 0:00:05\n",
            "   ---------------------------- ----------- 88.4/124.9 MB 6.5 MB/s eta 0:00:06\n",
            "   ---------------------------- ----------- 89.0/124.9 MB 6.5 MB/s eta 0:00:06\n",
            "   ---------------------------- ----------- 90.0/124.9 MB 6.5 MB/s eta 0:00:06\n",
            "   ----------------------------- ---------- 90.6/124.9 MB 6.5 MB/s eta 0:00:06\n",
            "   ----------------------------- ---------- 91.2/124.9 MB 6.5 MB/s eta 0:00:06\n",
            "   ----------------------------- ---------- 91.8/124.9 MB 7.7 MB/s eta 0:00:05\n",
            "   ----------------------------- ---------- 91.8/124.9 MB 7.7 MB/s eta 0:00:05\n",
            "   ----------------------------- ---------- 91.8/124.9 MB 7.7 MB/s eta 0:00:05\n",
            "   ----------------------------- ---------- 91.8/124.9 MB 7.7 MB/s eta 0:00:05\n",
            "   ----------------------------- ---------- 91.8/124.9 MB 7.7 MB/s eta 0:00:05\n",
            "   ----------------------------- ---------- 92.0/124.9 MB 6.5 MB/s eta 0:00:06\n",
            "   ----------------------------- ---------- 92.6/124.9 MB 6.5 MB/s eta 0:00:05\n",
            "   ----------------------------- ---------- 93.2/124.9 MB 6.5 MB/s eta 0:00:05\n",
            "   ------------------------------ --------- 93.8/124.9 MB 6.5 MB/s eta 0:00:05\n",
            "   ------------------------------ --------- 94.4/124.9 MB 6.5 MB/s eta 0:00:05\n",
            "   ------------------------------ --------- 95.0/124.9 MB 6.5 MB/s eta 0:00:05\n",
            "   ------------------------------ --------- 95.3/124.9 MB 7.7 MB/s eta 0:00:04\n",
            "   ------------------------------ --------- 95.3/124.9 MB 7.7 MB/s eta 0:00:04\n",
            "   ------------------------------ --------- 95.3/124.9 MB 7.7 MB/s eta 0:00:04\n",
            "   ------------------------------ --------- 95.3/124.9 MB 7.7 MB/s eta 0:00:04\n",
            "   ------------------------------ --------- 95.3/124.9 MB 7.7 MB/s eta 0:00:04\n",
            "   ------------------------------ --------- 95.4/124.9 MB 6.5 MB/s eta 0:00:05\n",
            "   ------------------------------ --------- 96.1/124.9 MB 6.5 MB/s eta 0:00:05\n",
            "   ------------------------------ --------- 96.6/124.9 MB 6.5 MB/s eta 0:00:05\n",
            "   ------------------------------- -------- 97.2/124.9 MB 6.5 MB/s eta 0:00:05\n",
            "   ------------------------------- -------- 97.7/124.9 MB 6.4 MB/s eta 0:00:05\n",
            "   ------------------------------- -------- 98.4/124.9 MB 6.5 MB/s eta 0:00:05\n",
            "   ------------------------------- -------- 98.9/124.9 MB 7.8 MB/s eta 0:00:04\n",
            "   ------------------------------- -------- 98.9/124.9 MB 7.8 MB/s eta 0:00:04\n",
            "   ------------------------------- -------- 98.9/124.9 MB 7.8 MB/s eta 0:00:04\n",
            "   ------------------------------- -------- 98.9/124.9 MB 7.8 MB/s eta 0:00:04\n",
            "   ------------------------------- -------- 98.9/124.9 MB 7.8 MB/s eta 0:00:04\n",
            "   ------------------------------- -------- 98.9/124.9 MB 7.8 MB/s eta 0:00:04\n",
            "   ------------------------------- -------- 99.4/124.9 MB 6.7 MB/s eta 0:00:04\n",
            "   -------------------------------- ------- 100.0/124.9 MB 6.5 MB/s eta 0:00:04\n",
            "   -------------------------------- ------- 100.8/124.9 MB 6.5 MB/s eta 0:00:04\n",
            "   -------------------------------- ------- 101.4/124.9 MB 6.5 MB/s eta 0:00:04\n",
            "   -------------------------------- ------- 101.9/124.9 MB 6.5 MB/s eta 0:00:04\n",
            "   -------------------------------- ------- 102.5/124.9 MB 7.7 MB/s eta 0:00:03\n",
            "   -------------------------------- ------- 102.5/124.9 MB 7.7 MB/s eta 0:00:03\n",
            "   -------------------------------- ------- 103.0/124.9 MB 7.4 MB/s eta 0:00:03\n",
            "   --------------------------------- ------ 103.3/124.9 MB 7.5 MB/s eta 0:00:03\n",
            "   --------------------------------- ------ 103.3/124.9 MB 7.5 MB/s eta 0:00:03\n",
            "   --------------------------------- ------ 103.3/124.9 MB 7.5 MB/s eta 0:00:03\n",
            "   --------------------------------- ------ 103.3/124.9 MB 7.5 MB/s eta 0:00:03\n",
            "   --------------------------------- ------ 103.3/124.9 MB 7.5 MB/s eta 0:00:03\n",
            "   --------------------------------- ------ 103.3/124.9 MB 7.5 MB/s eta 0:00:03\n",
            "   --------------------------------- ------ 104.0/124.9 MB 6.3 MB/s eta 0:00:04\n",
            "   --------------------------------- ------ 104.6/124.9 MB 6.3 MB/s eta 0:00:04\n",
            "   --------------------------------- ------ 105.1/124.9 MB 6.2 MB/s eta 0:00:04\n",
            "   --------------------------------- ------ 105.8/124.9 MB 7.4 MB/s eta 0:00:03\n",
            "   ---------------------------------- ----- 106.4/124.9 MB 7.5 MB/s eta 0:00:03\n",
            "   ---------------------------------- ----- 106.8/124.9 MB 7.4 MB/s eta 0:00:03\n",
            "   ---------------------------------- ----- 106.8/124.9 MB 7.4 MB/s eta 0:00:03\n",
            "   ---------------------------------- ----- 106.8/124.9 MB 7.4 MB/s eta 0:00:03\n",
            "   ---------------------------------- ----- 106.8/124.9 MB 7.4 MB/s eta 0:00:03\n",
            "   ---------------------------------- ----- 106.8/124.9 MB 7.4 MB/s eta 0:00:03\n",
            "   ---------------------------------- ----- 106.8/124.9 MB 7.4 MB/s eta 0:00:03\n",
            "   ---------------------------------- ----- 107.4/124.9 MB 6.4 MB/s eta 0:00:03\n",
            "   ---------------------------------- ----- 108.0/124.9 MB 6.4 MB/s eta 0:00:03\n",
            "   ---------------------------------- ----- 108.6/124.9 MB 6.4 MB/s eta 0:00:03\n",
            "   ---------------------------------- ----- 109.2/124.9 MB 7.5 MB/s eta 0:00:03\n",
            "   ----------------------------------- ---- 109.7/124.9 MB 7.4 MB/s eta 0:00:03\n",
            "   ----------------------------------- ---- 110.2/124.9 MB 7.5 MB/s eta 0:00:02\n",
            "   ----------------------------------- ---- 110.2/124.9 MB 7.5 MB/s eta 0:00:02\n",
            "   ----------------------------------- ---- 110.2/124.9 MB 7.5 MB/s eta 0:00:02\n",
            "   ----------------------------------- ---- 110.2/124.9 MB 7.5 MB/s eta 0:00:02\n",
            "   ----------------------------------- ---- 110.2/124.9 MB 7.5 MB/s eta 0:00:02\n",
            "   ----------------------------------- ---- 110.2/124.9 MB 7.5 MB/s eta 0:00:02\n",
            "   ----------------------------------- ---- 110.8/124.9 MB 6.4 MB/s eta 0:00:03\n",
            "   ----------------------------------- ---- 111.3/124.9 MB 6.4 MB/s eta 0:00:03\n",
            "   ----------------------------------- ---- 112.4/124.9 MB 6.4 MB/s eta 0:00:02\n",
            "   ------------------------------------ --- 112.9/124.9 MB 6.5 MB/s eta 0:00:02\n",
            "   ------------------------------------ --- 113.6/124.9 MB 6.5 MB/s eta 0:00:02\n",
            "   ------------------------------------ --- 113.6/124.9 MB 7.9 MB/s eta 0:00:02\n",
            "   ------------------------------------ --- 113.6/124.9 MB 7.9 MB/s eta 0:00:02\n",
            "   ------------------------------------ --- 113.6/124.9 MB 7.9 MB/s eta 0:00:02\n",
            "   ------------------------------------ --- 113.6/124.9 MB 7.9 MB/s eta 0:00:02\n",
            "   ------------------------------------ --- 113.6/124.9 MB 7.9 MB/s eta 0:00:02\n",
            "   ------------------------------------ --- 114.0/124.9 MB 6.6 MB/s eta 0:00:02\n",
            "   ------------------------------------ --- 114.6/124.9 MB 6.6 MB/s eta 0:00:02\n",
            "   ------------------------------------ --- 115.2/124.9 MB 6.6 MB/s eta 0:00:02\n",
            "   ------------------------------------- -- 115.8/124.9 MB 6.7 MB/s eta 0:00:02\n",
            "   ------------------------------------- -- 116.3/124.9 MB 6.6 MB/s eta 0:00:02\n",
            "   ------------------------------------- -- 116.9/124.9 MB 6.6 MB/s eta 0:00:02\n",
            "   ------------------------------------- -- 116.9/124.9 MB 6.6 MB/s eta 0:00:02\n",
            "   ------------------------------------- -- 116.9/124.9 MB 6.6 MB/s eta 0:00:02\n",
            "   ------------------------------------- -- 116.9/124.9 MB 6.6 MB/s eta 0:00:02\n",
            "   ------------------------------------- -- 116.9/124.9 MB 6.6 MB/s eta 0:00:02\n",
            "   ------------------------------------- -- 116.9/124.9 MB 6.6 MB/s eta 0:00:02\n",
            "   ------------------------------------- -- 117.3/124.9 MB 6.6 MB/s eta 0:00:02\n",
            "   ------------------------------------- -- 117.9/124.9 MB 6.6 MB/s eta 0:00:02\n",
            "   ------------------------------------- -- 118.5/124.9 MB 6.6 MB/s eta 0:00:01\n",
            "   -------------------------------------- - 119.2/124.9 MB 6.6 MB/s eta 0:00:01\n",
            "   -------------------------------------- - 119.7/124.9 MB 6.7 MB/s eta 0:00:01\n",
            "   -------------------------------------- - 120.3/124.9 MB 6.6 MB/s eta 0:00:01\n",
            "   -------------------------------------- - 120.3/124.9 MB 6.6 MB/s eta 0:00:01\n",
            "   -------------------------------------- - 120.3/124.9 MB 6.6 MB/s eta 0:00:01\n",
            "   -------------------------------------- - 120.3/124.9 MB 6.6 MB/s eta 0:00:01\n",
            "   -------------------------------------- - 120.3/124.9 MB 6.6 MB/s eta 0:00:01\n",
            "   -------------------------------------- - 120.3/124.9 MB 6.6 MB/s eta 0:00:01\n",
            "   -------------------------------------- - 120.6/124.9 MB 6.6 MB/s eta 0:00:01\n",
            "   -------------------------------------- - 121.3/124.9 MB 6.6 MB/s eta 0:00:01\n",
            "   ---------------------------------------  121.8/124.9 MB 6.7 MB/s eta 0:00:01\n",
            "   ---------------------------------------  122.5/124.9 MB 6.6 MB/s eta 0:00:01\n",
            "   ---------------------------------------  123.0/124.9 MB 6.6 MB/s eta 0:00:01\n",
            "   ---------------------------------------  123.8/124.9 MB 6.6 MB/s eta 0:00:01\n",
            "   ---------------------------------------  123.9/124.9 MB 7.8 MB/s eta 0:00:01\n",
            "   ---------------------------------------  123.9/124.9 MB 7.8 MB/s eta 0:00:01\n",
            "   ---------------------------------------  123.9/124.9 MB 7.8 MB/s eta 0:00:01\n",
            "   ---------------------------------------  123.9/124.9 MB 7.8 MB/s eta 0:00:01\n",
            "   ---------------------------------------  123.9/124.9 MB 7.8 MB/s eta 0:00:01\n",
            "   ---------------------------------------  124.2/124.9 MB 6.6 MB/s eta 0:00:01\n",
            "   ---------------------------------------  124.8/124.9 MB 6.5 MB/s eta 0:00:01\n",
            "   ---------------------------------------  124.9/124.9 MB 6.5 MB/s eta 0:00:01\n",
            "   ---------------------------------------  124.9/124.9 MB 6.5 MB/s eta 0:00:01\n",
            "   ---------------------------------------  124.9/124.9 MB 6.5 MB/s eta 0:00:01\n",
            "   ---------------------------------------  124.9/124.9 MB 6.5 MB/s eta 0:00:01\n",
            "   ---------------------------------------  124.9/124.9 MB 6.5 MB/s eta 0:00:01\n",
            "   ---------------------------------------  124.9/124.9 MB 6.5 MB/s eta 0:00:01\n",
            "   ---------------------------------------  124.9/124.9 MB 6.5 MB/s eta 0:00:01\n",
            "   ---------------------------------------  124.9/124.9 MB 6.5 MB/s eta 0:00:01\n",
            "   ---------------------------------------  124.9/124.9 MB 6.5 MB/s eta 0:00:01\n",
            "   ---------------------------------------  124.9/124.9 MB 6.5 MB/s eta 0:00:01\n",
            "   ---------------------------------------  124.9/124.9 MB 6.5 MB/s eta 0:00:01\n",
            "   ---------------------------------------  124.9/124.9 MB 6.5 MB/s eta 0:00:01\n",
            "   ---------------------------------------  124.9/124.9 MB 6.5 MB/s eta 0:00:01\n",
            "   ---------------------------------------- 124.9/124.9 MB 4.7 MB/s eta 0:00:00\n",
            "Installing collected packages: xgboost\n",
            "Successfully installed xgboost-2.1.1\n"
          ]
        }
      ],
      "source": [
        "! pip install xgboost"
      ]
    },
    {
      "cell_type": "code",
      "execution_count": 9,
      "metadata": {
        "colab": {
          "base_uri": "https://localhost:8080/"
        },
        "id": "yEWmCaZDIguI",
        "outputId": "5de034ea-23e2-43ca-b171-48c39b16b4b4"
      },
      "outputs": [
        {
          "name": "stdout",
          "output_type": "stream",
          "text": [
            "Linear Regression - MSE: 37.6334, R2: -0.9855, Accuracy: -98.55%\n",
            "Support Vector Machine - MSE: 21.8053, R2: -0.1504, Accuracy: -15.04%\n",
            "Random Forest - MSE: 2.8769, R2: 0.8482, Accuracy: 84.82%\n",
            "XGBoost - MSE: 3.4082, R2: 0.8202, Accuracy: 82.02%\n",
            "\n",
            "Best Model: Random Forest with MSE: 2.8769 and R2: 0.8482\n",
            "\n",
            "Predicted NO2 values saved to final_predictions.csv\n"
          ]
        }
      ],
      "source": [
        "import pandas as pd\n",
        "from sklearn.model_selection import train_test_split\n",
        "from sklearn.linear_model import LinearRegression\n",
        "from sklearn.svm import SVR\n",
        "from sklearn.ensemble import RandomForestRegressor\n",
        "import xgboost as xgb\n",
        "from sklearn.metrics import mean_squared_error, r2_score\n",
        "from sklearn.impute import SimpleImputer\n",
        "\n",
        "# Assuming final_merged_dataset is already created from previous steps\n",
        "\n",
        "# Define the target and features\n",
        "target = final_merged_dataset['NO2']\n",
        "features = final_merged_dataset[['Longitude', 'latitude', 'Temp', 'wind speed', 'pressure', ' Humidity']]\n",
        "\n",
        "# Handle missing values in the target (NO2)\n",
        "imputer = SimpleImputer(strategy='mean')\n",
        "target = imputer.fit_transform(target.values.reshape(-1, 1)).ravel()\n",
        "\n",
        "# Split the data into training and testing sets\n",
        "X_train, X_test, y_train, y_test = train_test_split(features, target, test_size=0.2, random_state=42)\n",
        "\n",
        "# Initialize the models\n",
        "models = {\n",
        "    \"Linear Regression\": LinearRegression(),\n",
        "    \"Support Vector Machine\": SVR(),\n",
        "    \"Random Forest\": RandomForestRegressor(random_state=42),\n",
        "    \"XGBoost\": xgb.XGBRegressor(random_state=42)\n",
        "}\n",
        "\n",
        "# Train and evaluate each model\n",
        "results = {}\n",
        "for model_name, model in models.items():\n",
        "    model.fit(X_train, y_train)\n",
        "    predictions = model.predict(X_test)\n",
        "\n",
        "    mse = mean_squared_error(y_test, predictions)\n",
        "    r2 = r2_score(y_test, predictions)\n",
        "    accuracy = model.score(X_test, y_test) * 100  # Convert accuracy to percentage\n",
        "    results[model_name] = {\"MSE\": mse, \"R2\": r2, \"Accuracy (%)\": accuracy}\n",
        "\n",
        "    print(f\"{model_name} - MSE: {mse:.4f}, R2: {r2:.4f}, Accuracy: {accuracy:.2f}%\")\n",
        "\n",
        "# Determine the best model based on MSE\n",
        "best_model_name = min(results, key=lambda x: results[x][\"MSE\"])\n",
        "print(f\"\\nBest Model: {best_model_name} with MSE: {results[best_model_name]['MSE']:.4f} and R2: {results[best_model_name]['R2']:.4f}\")\n",
        "# Use the best model to predict NO2 values on the entire dataset\n",
        "best_model = models[best_model_name]\n",
        "final_merged_dataset['Predicted_NO2'] = best_model.predict(features)\n",
        "\n",
        "# Save the final dataset with predicted NO2 values to a CSV file\n",
        "output_filename = 'final_predictions.csv'\n",
        "final_merged_dataset[['Date', 'City', 'Predicted_NO2']].to_csv(output_filename, index=False)\n",
        "\n",
        "print(f\"\\nPredicted NO2 values saved to {output_filename}\")\n"
      ]
    },
    {
      "cell_type": "code",
      "execution_count": 30,
      "metadata": {
        "colab": {
          "base_uri": "https://localhost:8080/"
        },
        "id": "02oM5F0RKYTF",
        "outputId": "e2d2461d-fbd7-4f7a-a831-a0a99f70005f"
      },
      "outputs": [
        {
          "name": "stdout",
          "output_type": "stream",
          "text": [
            "Collecting folium\n",
            "  Using cached folium-0.17.0-py2.py3-none-any.whl.metadata (3.8 kB)\n",
            "Requirement already satisfied: pandas in c:\\users\\umang\\anaconda3\\envs\\agritech\\lib\\site-packages (2.1.4)\n",
            "Collecting branca>=0.6.0 (from folium)\n",
            "  Using cached branca-0.7.2-py3-none-any.whl.metadata (1.5 kB)\n",
            "Requirement already satisfied: jinja2>=2.9 in c:\\users\\umang\\anaconda3\\envs\\agritech\\lib\\site-packages (from folium) (3.1.4)\n",
            "Requirement already satisfied: numpy in c:\\users\\umang\\anaconda3\\envs\\agritech\\lib\\site-packages (from folium) (1.26.4)\n",
            "Requirement already satisfied: requests in c:\\users\\umang\\anaconda3\\envs\\agritech\\lib\\site-packages (from folium) (2.32.3)\n",
            "Collecting xyzservices (from folium)\n",
            "  Using cached xyzservices-2024.6.0-py3-none-any.whl.metadata (4.0 kB)\n",
            "Requirement already satisfied: python-dateutil>=2.8.2 in c:\\users\\umang\\anaconda3\\envs\\agritech\\lib\\site-packages (from pandas) (2.9.0)\n",
            "Requirement already satisfied: pytz>=2020.1 in c:\\users\\umang\\anaconda3\\envs\\agritech\\lib\\site-packages (from pandas) (2024.1)\n",
            "Requirement already satisfied: tzdata>=2022.1 in c:\\users\\umang\\anaconda3\\envs\\agritech\\lib\\site-packages (from pandas) (2023.3)\n",
            "Requirement already satisfied: MarkupSafe>=2.0 in c:\\users\\umang\\anaconda3\\envs\\agritech\\lib\\site-packages (from jinja2>=2.9->folium) (2.1.3)\n",
            "Requirement already satisfied: six>=1.5 in c:\\users\\umang\\anaconda3\\envs\\agritech\\lib\\site-packages (from python-dateutil>=2.8.2->pandas) (1.16.0)\n",
            "Requirement already satisfied: charset-normalizer<4,>=2 in c:\\users\\umang\\anaconda3\\envs\\agritech\\lib\\site-packages (from requests->folium) (3.3.2)\n",
            "Requirement already satisfied: idna<4,>=2.5 in c:\\users\\umang\\anaconda3\\envs\\agritech\\lib\\site-packages (from requests->folium) (3.7)\n",
            "Requirement already satisfied: urllib3<3,>=1.21.1 in c:\\users\\umang\\anaconda3\\envs\\agritech\\lib\\site-packages (from requests->folium) (2.2.2)\n",
            "Requirement already satisfied: certifi>=2017.4.17 in c:\\users\\umang\\anaconda3\\envs\\agritech\\lib\\site-packages (from requests->folium) (2024.7.4)\n",
            "Using cached folium-0.17.0-py2.py3-none-any.whl (108 kB)\n",
            "Using cached branca-0.7.2-py3-none-any.whl (25 kB)\n",
            "Using cached xyzservices-2024.6.0-py3-none-any.whl (83 kB)\n",
            "Installing collected packages: xyzservices, branca, folium\n",
            "Successfully installed branca-0.7.2 folium-0.17.0 xyzservices-2024.6.0\n"
          ]
        }
      ],
      "source": [
        "!pip install folium pandas\n"
      ]
    },
    {
      "cell_type": "code",
      "execution_count": 33,
      "metadata": {
        "colab": {
          "base_uri": "https://localhost:8080/"
        },
        "id": "QxbtSajlKaap",
        "outputId": "40ef89a6-1410-4168-c55a-ad95a3d99e7f"
      },
      "outputs": [
        {
          "ename": "KeyError",
          "evalue": "'latitude'",
          "output_type": "error",
          "traceback": [
            "\u001b[1;31m---------------------------------------------------------------------------\u001b[0m",
            "\u001b[1;31mKeyError\u001b[0m                                  Traceback (most recent call last)",
            "File \u001b[1;32mc:\\Users\\umang\\anaconda3\\envs\\agritech\\lib\\site-packages\\pandas\\core\\indexes\\base.py:3791\u001b[0m, in \u001b[0;36mIndex.get_loc\u001b[1;34m(self, key)\u001b[0m\n\u001b[0;32m   3790\u001b[0m \u001b[38;5;28;01mtry\u001b[39;00m:\n\u001b[1;32m-> 3791\u001b[0m     \u001b[38;5;28;01mreturn\u001b[39;00m \u001b[38;5;28;43mself\u001b[39;49m\u001b[38;5;241;43m.\u001b[39;49m\u001b[43m_engine\u001b[49m\u001b[38;5;241;43m.\u001b[39;49m\u001b[43mget_loc\u001b[49m\u001b[43m(\u001b[49m\u001b[43mcasted_key\u001b[49m\u001b[43m)\u001b[49m\n\u001b[0;32m   3792\u001b[0m \u001b[38;5;28;01mexcept\u001b[39;00m \u001b[38;5;167;01mKeyError\u001b[39;00m \u001b[38;5;28;01mas\u001b[39;00m err:\n",
            "File \u001b[1;32mindex.pyx:152\u001b[0m, in \u001b[0;36mpandas._libs.index.IndexEngine.get_loc\u001b[1;34m()\u001b[0m\n",
            "File \u001b[1;32mindex.pyx:181\u001b[0m, in \u001b[0;36mpandas._libs.index.IndexEngine.get_loc\u001b[1;34m()\u001b[0m\n",
            "File \u001b[1;32mpandas\\_libs\\hashtable_class_helper.pxi:7080\u001b[0m, in \u001b[0;36mpandas._libs.hashtable.PyObjectHashTable.get_item\u001b[1;34m()\u001b[0m\n",
            "File \u001b[1;32mpandas\\_libs\\hashtable_class_helper.pxi:7088\u001b[0m, in \u001b[0;36mpandas._libs.hashtable.PyObjectHashTable.get_item\u001b[1;34m()\u001b[0m\n",
            "\u001b[1;31mKeyError\u001b[0m: 'latitude'",
            "\nThe above exception was the direct cause of the following exception:\n",
            "\u001b[1;31mKeyError\u001b[0m                                  Traceback (most recent call last)",
            "Cell \u001b[1;32mIn[33], line 9\u001b[0m\n\u001b[0;32m      6\u001b[0m data \u001b[38;5;241m=\u001b[39m pd\u001b[38;5;241m.\u001b[39mread_csv(\u001b[38;5;124m'\u001b[39m\u001b[38;5;124mfinal_predictions1.csv\u001b[39m\u001b[38;5;124m'\u001b[39m)\n\u001b[0;32m      8\u001b[0m \u001b[38;5;66;03m# Initialize a map centered around the average latitude and longitude\u001b[39;00m\n\u001b[1;32m----> 9\u001b[0m center_lat \u001b[38;5;241m=\u001b[39m \u001b[43mdata\u001b[49m\u001b[43m[\u001b[49m\u001b[38;5;124;43m'\u001b[39;49m\u001b[38;5;124;43mlatitude\u001b[39;49m\u001b[38;5;124;43m'\u001b[39;49m\u001b[43m]\u001b[49m\u001b[38;5;241m.\u001b[39mmean()\n\u001b[0;32m     10\u001b[0m center_lon \u001b[38;5;241m=\u001b[39m data[\u001b[38;5;124m'\u001b[39m\u001b[38;5;124mLongitude\u001b[39m\u001b[38;5;124m'\u001b[39m]\u001b[38;5;241m.\u001b[39mmean()\n\u001b[0;32m     11\u001b[0m mymap \u001b[38;5;241m=\u001b[39m folium\u001b[38;5;241m.\u001b[39mMap(location\u001b[38;5;241m=\u001b[39m[center_lat, center_lon], zoom_start\u001b[38;5;241m=\u001b[39m\u001b[38;5;241m10\u001b[39m)\n",
            "File \u001b[1;32mc:\\Users\\umang\\anaconda3\\envs\\agritech\\lib\\site-packages\\pandas\\core\\frame.py:3893\u001b[0m, in \u001b[0;36mDataFrame.__getitem__\u001b[1;34m(self, key)\u001b[0m\n\u001b[0;32m   3891\u001b[0m \u001b[38;5;28;01mif\u001b[39;00m \u001b[38;5;28mself\u001b[39m\u001b[38;5;241m.\u001b[39mcolumns\u001b[38;5;241m.\u001b[39mnlevels \u001b[38;5;241m>\u001b[39m \u001b[38;5;241m1\u001b[39m:\n\u001b[0;32m   3892\u001b[0m     \u001b[38;5;28;01mreturn\u001b[39;00m \u001b[38;5;28mself\u001b[39m\u001b[38;5;241m.\u001b[39m_getitem_multilevel(key)\n\u001b[1;32m-> 3893\u001b[0m indexer \u001b[38;5;241m=\u001b[39m \u001b[38;5;28;43mself\u001b[39;49m\u001b[38;5;241;43m.\u001b[39;49m\u001b[43mcolumns\u001b[49m\u001b[38;5;241;43m.\u001b[39;49m\u001b[43mget_loc\u001b[49m\u001b[43m(\u001b[49m\u001b[43mkey\u001b[49m\u001b[43m)\u001b[49m\n\u001b[0;32m   3894\u001b[0m \u001b[38;5;28;01mif\u001b[39;00m is_integer(indexer):\n\u001b[0;32m   3895\u001b[0m     indexer \u001b[38;5;241m=\u001b[39m [indexer]\n",
            "File \u001b[1;32mc:\\Users\\umang\\anaconda3\\envs\\agritech\\lib\\site-packages\\pandas\\core\\indexes\\base.py:3798\u001b[0m, in \u001b[0;36mIndex.get_loc\u001b[1;34m(self, key)\u001b[0m\n\u001b[0;32m   3793\u001b[0m     \u001b[38;5;28;01mif\u001b[39;00m \u001b[38;5;28misinstance\u001b[39m(casted_key, \u001b[38;5;28mslice\u001b[39m) \u001b[38;5;129;01mor\u001b[39;00m (\n\u001b[0;32m   3794\u001b[0m         \u001b[38;5;28misinstance\u001b[39m(casted_key, abc\u001b[38;5;241m.\u001b[39mIterable)\n\u001b[0;32m   3795\u001b[0m         \u001b[38;5;129;01mand\u001b[39;00m \u001b[38;5;28many\u001b[39m(\u001b[38;5;28misinstance\u001b[39m(x, \u001b[38;5;28mslice\u001b[39m) \u001b[38;5;28;01mfor\u001b[39;00m x \u001b[38;5;129;01min\u001b[39;00m casted_key)\n\u001b[0;32m   3796\u001b[0m     ):\n\u001b[0;32m   3797\u001b[0m         \u001b[38;5;28;01mraise\u001b[39;00m InvalidIndexError(key)\n\u001b[1;32m-> 3798\u001b[0m     \u001b[38;5;28;01mraise\u001b[39;00m \u001b[38;5;167;01mKeyError\u001b[39;00m(key) \u001b[38;5;28;01mfrom\u001b[39;00m \u001b[38;5;21;01merr\u001b[39;00m\n\u001b[0;32m   3799\u001b[0m \u001b[38;5;28;01mexcept\u001b[39;00m \u001b[38;5;167;01mTypeError\u001b[39;00m:\n\u001b[0;32m   3800\u001b[0m     \u001b[38;5;66;03m# If we have a listlike key, _check_indexing_error will raise\u001b[39;00m\n\u001b[0;32m   3801\u001b[0m     \u001b[38;5;66;03m#  InvalidIndexError. Otherwise we fall through and re-raise\u001b[39;00m\n\u001b[0;32m   3802\u001b[0m     \u001b[38;5;66;03m#  the TypeError.\u001b[39;00m\n\u001b[0;32m   3803\u001b[0m     \u001b[38;5;28mself\u001b[39m\u001b[38;5;241m.\u001b[39m_check_indexing_error(key)\n",
            "\u001b[1;31mKeyError\u001b[0m: 'latitude'"
          ]
        }
      ],
      "source": [
        "import pandas as pd\n",
        "import folium\n",
        "from folium.plugins import HeatMap\n",
        "\n",
        "# Load the dataset\n",
        "data = pd.read_csv('final_predictions1.csv')\n",
        "\n",
        "# Initialize a map centered around the average latitude and longitude\n",
        "center_lat = data['latitude'].mean()\n",
        "center_lon = data['Longitude'].mean()\n",
        "mymap = folium.Map(location=[center_lat, center_lon], zoom_start=10)\n",
        "\n",
        "# Add points to the map\n",
        "for index, row in data.iterrows():\n",
        "    folium.CircleMarker(\n",
        "        location=[row['latitude'], row['Longitude']],\n",
        "        radius=5,\n",
        "        popup=f\"NO2: {row['Predicted_NO2']}\",\n",
        "        color='blue',\n",
        "        fill=True,\n",
        "        fill_color='blue'\n",
        "    ).add_to(mymap)\n",
        "\n",
        "# Alternatively, create a heatmap\n",
        "heatmap_data = [[row['latitude'], row['Longitude'], row['Predicted_NO2']] for index, row in data.iterrows()]\n",
        "HeatMap(heatmap_data).add_to(mymap)\n",
        "\n",
        "# Save the map to an HTML file\n",
        "mymap.save('no2_prediction_map.html')\n",
        "\n",
        "print(\"Map saved to no2_prediction_map.html\")\n"
      ]
    },
    {
      "cell_type": "code",
      "execution_count": 29,
      "metadata": {
        "colab": {
          "base_uri": "https://localhost:8080/",
          "height": 1000
        },
        "id": "_QfJJ3RLjxm-",
        "outputId": "9f21d1f7-d77b-4257-8094-ad2fc15d2d46"
      },
      "outputs": [
        {
          "data": {
            "image/png": "[encoded data removed]",
            "text/plain": [
              "<Figure size 1000x800 with 1 Axes>"
            ]
          },
          "metadata": {},
          "output_type": "display_data"
        },
        {
          "data": {
            "image/png": "[encoded data removed]",
            "text/plain": [
              "<Figure size 1200x700 with 1 Axes>"
            ]
          },
          "metadata": {},
          "output_type": "display_data"
        }
      ],
      "source": [
        "import pandas as pd\n",
        "import matplotlib.pyplot as plt\n",
        "import seaborn as sns\n",
        "\n",
        "# Load the predicted NO2 data\n",
        "final_merged_dataset = pd.read_csv('final_predictions.csv')\n",
        "\n",
        "# Set a general style for the plots\n",
        "sns.set(style=\"whitegrid\", palette=\"pastel\")\n",
        "\n",
        "# Pie chart - Distribution of NO2 values\n",
        "plt.figure(figsize=(10, 8))\n",
        "no2_bins = pd.cut(final_merged_dataset['Predicted_NO2'], bins=[0, 20, 40, 60, 80, 100, 120, 140, 160])\n",
        "no2_bins.value_counts().plot.pie(autopct='%1.1f%%', colors=sns.color_palette('coolwarm', len(no2_bins.unique())),\n",
        "                                 startangle=140, wedgeprops={'edgecolor': 'black', 'linewidth': 1})\n",
        "plt.title('Distribution of Predicted NO2 Values', fontsize=16, fontweight='bold')\n",
        "plt.ylabel('')  # Hide y-axis label\n",
        "plt.show()\n",
        "\n",
        "# Histogram - Frequency of NO2 values\n",
        "plt.figure(figsize=(12, 7))\n",
        "sns.histplot(final_merged_dataset['Predicted_NO2'], bins=20, kde=True, color='#3B8EEA', edgecolor='black', linewidth=1.2)\n",
        "plt.title('Histogram of Predicted NO2 Values', fontsize=16, fontweight='bold')\n",
        "plt.xlabel('Predicted NO2', fontsize=14)\n",
        "plt.ylabel('Frequency', fontsize=14)\n",
        "plt.grid(True, linestyle='--', alpha=0.7)\n",
        "plt.show()\n",
        "\n",
        "\n"
      ]
    },
    {
      "cell_type": "code",
      "execution_count": 26,
      "metadata": {
        "colab": {
          "base_uri": "https://localhost:8080/"
        },
        "id": "aYFQ3HbRoE2l",
        "outputId": "3d13792e-c2f0-410c-b952-c7ad71222784"
      },
      "outputs": [
        {
          "name": "stdout",
          "output_type": "stream",
          "text": [
            "Requirement already satisfied: pandas in /usr/local/lib/python3.10/dist-packages (2.1.4)\n",
            "Requirement already satisfied: matplotlib in /usr/local/lib/python3.10/dist-packages (3.7.1)\n",
            "Requirement already satisfied: seaborn in /usr/local/lib/python3.10/dist-packages (0.13.1)\n",
            "Requirement already satisfied: numpy<2,>=1.22.4 in /usr/local/lib/python3.10/dist-packages (from pandas) (1.26.4)\n",
            "Requirement already satisfied: python-dateutil>=2.8.2 in /usr/local/lib/python3.10/dist-packages (from pandas) (2.8.2)\n",
            "Requirement already satisfied: pytz>=2020.1 in /usr/local/lib/python3.10/dist-packages (from pandas) (2024.1)\n",
            "Requirement already satisfied: tzdata>=2022.1 in /usr/local/lib/python3.10/dist-packages (from pandas) (2024.1)\n",
            "Requirement already satisfied: contourpy>=1.0.1 in /usr/local/lib/python3.10/dist-packages (from matplotlib) (1.2.1)\n",
            "Requirement already satisfied: cycler>=0.10 in /usr/local/lib/python3.10/dist-packages (from matplotlib) (0.12.1)\n",
            "Requirement already satisfied: fonttools>=4.22.0 in /usr/local/lib/python3.10/dist-packages (from matplotlib) (4.53.1)\n",
            "Requirement already satisfied: kiwisolver>=1.0.1 in /usr/local/lib/python3.10/dist-packages (from matplotlib) (1.4.5)\n",
            "Requirement already satisfied: packaging>=20.0 in /usr/local/lib/python3.10/dist-packages (from matplotlib) (24.1)\n",
            "Requirement already satisfied: pillow>=6.2.0 in /usr/local/lib/python3.10/dist-packages (from matplotlib) (9.4.0)\n",
            "Requirement already satisfied: pyparsing>=2.3.1 in /usr/local/lib/python3.10/dist-packages (from matplotlib) (3.1.4)\n",
            "Requirement already satisfied: six>=1.5 in /usr/local/lib/python3.10/dist-packages (from python-dateutil>=2.8.2->pandas) (1.16.0)\n"
          ]
        }
      ],
      "source": [
        "pip install pandas matplotlib seaborn\n"
      ]
    },
    {
      "cell_type": "code",
      "execution_count": 27,
      "metadata": {
        "colab": {
          "base_uri": "https://localhost:8080/"
        },
        "id": "zZKCu4XWoHb0",
        "outputId": "09a5de7b-35d1-407e-fe01-c37250f47d3c"
      },
      "outputs": [
        {
          "name": "stdout",
          "output_type": "stream",
          "text": [
            "         Date           City  Predicted_NO2\n",
            "0  2022-01-01  Greater Noida      46.163164\n",
            "1  2022-01-02  Greater Noida      52.173303\n",
            "2  2022-01-03  Greater Noida      52.437407\n",
            "3  2022-01-04  Greater Noida      53.551597\n",
            "4  2022-01-05  Greater Noida      53.649178\n"
          ]
        }
      ],
      "source": [
        "import pandas as pd\n",
        "\n",
        "# Load the data\n",
        "df = pd.read_csv('/content/final_predictions1.csv')\n",
        "\n",
        "# Check the first few rows of the dataframe\n",
        "print(df.head())\n"
      ]
    }
  ],
  "metadata": {
    "colab": {
      "provenance": []
    },
    "kernelspec": {
      "display_name": "Python 3",
      "name": "python3"
    },
    "language_info": {
      "codemirror_mode": {
        "name": "ipython",
        "version": 3
      },
      "file_extension": ".py",
      "mimetype": "text/x-python",
      "name": "python",
      "nbconvert_exporter": "python",
      "pygments_lexer": "ipython3",
      "version": "3.9.18"
    }
  },
  "nbformat": 4,
  "nbformat_minor": 0
}
